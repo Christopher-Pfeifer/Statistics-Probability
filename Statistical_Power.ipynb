{
 "cells": [
  {
   "cell_type": "markdown",
   "metadata": {},
   "source": [
    "# Statistical Power"
   ]
  },
  {
   "cell_type": "code",
   "execution_count": 1,
   "metadata": {
    "collapsed": true
   },
   "outputs": [],
   "source": [
    "import numpy  as np\n",
    "import pandas as pd\n",
    "from scipy.stats import norm\n",
    "import datetime\n",
    "import matplotlib.pyplot as plt\n",
    "from statsmodels.stats.power import TTestIndPower"
   ]
  },
  {
   "cell_type": "code",
   "execution_count": 2,
   "metadata": {
    "collapsed": true
   },
   "outputs": [],
   "source": [
    "pd.options.display.float_format = '{:,.3f}'.format"
   ]
  },
  {
   "cell_type": "markdown",
   "metadata": {
    "collapsed": true
   },
   "source": [
    "### What Is Statistical Power?\n",
    "Statistical power, or the power of a hypothesis test is:\n",
    "- Power is the probability that the test correctly rejects the (false) null hypothesis, when the alternative hypothesis is true.\n",
    "- That is, the probability of a true positive result.\n",
    "- Power is the probability of finding statistically significant results when the Null Hypothesis is false (there is a difference).\n",
    "- It is only useful when the null hypothesis (the assumption that nothing has changed) is rejected.\n",
    "\n",
    "\n",
    "**Type II Error**: The failure to rejection a false null hypothesis (when there is a signiﬁcant eﬀect) - called a false negative. The p-value is pessimistically large.\n",
    "- **Low Statistical Power**: Large risk of committing Type II errors, e.g. a false negative.\n",
    "- **High Statistical Power**: Small risk of committing Type II errors.\n",
    "\n",
    "**Alpha** is usually expressed as a proportion. If the confidence level is 95%, then alpha would equal 1 - 0.95 or 0.05. Alpha refers to significance level, the probability of making a Type I error .\n",
    "\n",
    "Experimental results with too low statistical power will lead to invalid conclusions about the meaning of the results.\n",
    "\n",
    "Therefore a minimum level of statistical power must be sought:\n",
    "- It is common to design experiments with a statistical power of 80% or better, e.g. 0.80.\n",
    "- This means a 20% probability of encountering a Type II area.\n",
    "- This is diﬀerent from the 5% likelihood of encountering a Type I error for the standard confidence level.\n",
    "\n",
    "#### Perhaps the most common use of a power analysis is in the estimation of the minimum sample size required for an experiment."
   ]
  },
  {
   "cell_type": "markdown",
   "metadata": {},
   "source": [
    "## --------------------------------------------------------------------------------"
   ]
  },
  {
   "cell_type": "markdown",
   "metadata": {
    "collapsed": true
   },
   "source": [
    "### Student’s t-Test Power Analysis\n",
    "A statistical hypothesis test for comparing the means from two samples of Gaussian variables.\n",
    "\n",
    "#### Null hypothesis (H0):\n",
    "The assumtion: The sample populations have the same mean, e.g. that there is no diﬀerence between the samples, that the samples are drawn from the same underlying population.\n",
    "\n",
    "Calculate a p-value that can be interpreted as to whether the samples are the same (fail to reject the null hypothesis), or there is a statistically signiﬁcant diﬀerence between the samples (reject the null hypothesis).\n",
    "\n",
    "#### Signiﬁcance level (alpha): 5% or 0.05.\n",
    "\n",
    "#### Effect size measure: Cohen’s d of at least 0.80.\n",
    "- A measure for comparing the diﬀerence in the mean from two groups is the Cohen’s d measure.\n",
    "- Calculates a standard score describing diﬀerence in terms of the number of standard deviations that the means are diﬀerent.\n",
    "- A large eﬀect size for Cohen’s d is 0.80 or higher, as is commonly accepted when using the measure.\n",
    "\n",
    "#### Statistical Power: 80% or 0.80.\n",
    "- Use the default and assume a minimum statistical power of 80% or 0.8.\n",
    " \n",
    "#### For a given experiment with these defaults:\n",
    "- An experimenter may be interested in estimating a suitable sample size.\n",
    "- How many observations are required from each sample in order to:\n",
    "    - At least detect an eﬀect of 0.80 (effect size).\n",
    "    - with an 80% chance of detecting the eﬀect if it is true - 20% of a Type II error (statistical power).\n",
    "    - And a 5% chance of detecting an eﬀect if there is no such eﬀect (Type I error). \n",
    "\n",
    "We can solve this using a power analysis. "
   ]
  },
  {
   "cell_type": "markdown",
   "metadata": {},
   "source": [
    "### Statsmodels library provides:\n",
    "- The TTestIndPower class for calculating a power analysis for the Student’s t-test with independent samples.\n",
    "- The TTestPower class can perform the same analysis for the paired Student’s t-test.\n",
    "- The function solve_power() can be used to calculate one of the four parameters in a power analysis.\n",
    "\n",
    "In this case, the experimenter is calculating the sample size.\n",
    "\n",
    "Use the function by providing the three pieces of information we know:\n",
    "- signiﬁcance level (alpha)\n",
    "- effect size\n",
    "- statistical power\n",
    "\n",
    "Then setting the size of argument the experimenter wishes to calculate the answer of (nobs1) to None. This tells the function what to calculate. \n",
    "\n",
    "#### A note on sample size:\n",
    "the function has an argument called ratio that is the ratio of the number of samples in one sample to the other. If both samples are expected to have the same number of observations, then the ratio is 1.0. If, for example, the second sample is expected to have half as many observations, then the ratio would be 0.5.\n",
    "\n",
    "The TTestIndPower instance must be created, then the experimenter can call the solve power() with the arguments to estimate the sample size for the experiment."
   ]
  },
  {
   "cell_type": "markdown",
   "metadata": {
    "collapsed": true
   },
   "source": [
    "#### estimate sample size via power analysis"
   ]
  },
  {
   "cell_type": "code",
   "execution_count": 3,
   "metadata": {},
   "outputs": [
    {
     "name": "stdout",
     "output_type": "stream",
     "text": [
      "Sample Size: 25.525\n"
     ]
    }
   ],
   "source": [
    "# parameters for power analysis\n",
    "effect = 0.8\n",
    "alpha = 0.05  # significance level\n",
    "power = 0.8\n",
    "\n",
    "# perform power analysis\n",
    "analysis = TTestIndPower()\n",
    "result = analysis.solve_power(effect, power=power, nobs1=None, ratio=1.0, alpha=alpha)\n",
    "print('Sample Size: %.3f' % result)"
   ]
  },
  {
   "cell_type": "markdown",
   "metadata": {
    "collapsed": true
   },
   "source": [
    "The above example:\n",
    "- Calculates and prints the estimated number of samples for the experiment as 25.\n",
    "- This would be a suggested minimum number of samples required to see an eﬀect of the desired size."
   ]
  },
  {
   "cell_type": "markdown",
   "metadata": {
    "collapsed": true
   },
   "source": [
    "## --------------------------------------------------------------------------------"
   ]
  },
  {
   "cell_type": "markdown",
   "metadata": {},
   "source": [
    "### Power Curves"
   ]
  },
  {
   "cell_type": "markdown",
   "metadata": {
    "collapsed": true
   },
   "source": [
    "Power curves are line plots that show how the change in variables, such as eﬀect size and sample size, impact the power of the statistical test.\n",
    "\n",
    "- The plot power() function can be used to create power curves.\n",
    "- The dependent variable (x-axis) must be speciﬁed by name in the dep var argument.\n",
    "- Arrays of values can then be speciﬁed for the:\n",
    "    - sample size (nobs)\n",
    "    - eﬀect size (effect size)\n",
    "    - signiﬁcance level (alpha) parameters.\n",
    "- One or multiple curves will then be plotted showing the impact on statistical power.\n",
    "\n",
    "For example, we can assume a signiﬁcance level of 0.05 (the default for the function) and explore the change in sample size between 5 and 100 with low, medium, and high eﬀect sizes."
   ]
  },
  {
   "cell_type": "markdown",
   "metadata": {
    "collapsed": true
   },
   "source": [
    "### calculate power curves for varying sample and effect size"
   ]
  },
  {
   "cell_type": "code",
   "execution_count": 4,
   "metadata": {},
   "outputs": [
    {
     "name": "stdout",
     "output_type": "stream",
     "text": [
      " Effect Sizes:\n",
      "[0.2 0.5 0.8]\n",
      "\n",
      " Sample Sizes:\n",
      "[ 5  6  7  8  9 10 11 12 13 14 15 16 17 18 19 20 21 22 23 24 25 26 27 28\n",
      " 29 30 31 32 33 34 35 36 37 38 39 40 41 42 43 44 45 46 47 48 49 50 51 52\n",
      " 53 54 55 56 57 58 59 60 61 62 63 64 65 66 67 68 69 70 71 72 73 74 75 76\n",
      " 77 78 79 80 81 82 83 84 85 86 87 88 89 90 91 92 93 94 95 96 97 98 99]\n"
     ]
    },
    {
     "data": {
      "image/png": "[encoded data removed]",
      "text/plain": [
       "<Figure size 432x288 with 1 Axes>"
      ]
     },
     "metadata": {},
     "output_type": "display_data"
    }
   ],
   "source": [
    "# parameters for power analysis\n",
    "effect_sizes = np.array([0.2, 0.5, 0.8])\n",
    "sample_sizes = np.array(range(5, 100))\n",
    "\n",
    "print(\" Effect Sizes:\")\n",
    "print(effect_sizes)\n",
    "print(\"\\n Sample Sizes:\")\n",
    "print(sample_sizes)\n",
    "\n",
    "# calculate power curves from multiple power analyses\n",
    "analysis = TTestIndPower()\n",
    "analysis.plot_power(dep_var='nobs', nobs=sample_sizes, effect_size=effect_sizes)\n",
    "plt.xlabel(\"Number of Observations\", fontsize=16)\n",
    "plt.ylabel(\"Statistical Power\",  fontsize=16)\n",
    "plt.show()"
   ]
  },
  {
   "cell_type": "markdown",
   "metadata": {
    "collapsed": true
   },
   "source": [
    "- The above example creates the plot showing the impact on statistical power (y-axis) for three diﬀerent eﬀect sizes (es) as the sample size (x-axis) is increased.\n",
    "- It is seen that if the experimenter is interested in a large eﬀect, that a point of diminishing returns in terms of statistical power occurs at around 40-to-50 observations."
   ]
  },
  {
   "cell_type": "markdown",
   "metadata": {},
   "source": [
    "#### Statsmodels has classes to perform a power analysis with other statistical tests, such as:\n",
    "- F-test\n",
    "- Z-test\n",
    "- Chi-Squared test"
   ]
  },
  {
   "cell_type": "markdown",
   "metadata": {
    "collapsed": true
   },
   "source": [
    "# ===================================="
   ]
  },
  {
   "cell_type": "markdown",
   "metadata": {},
   "source": [
    "### Explore some properties of the power function and see how it relates to sample size among other parameters."
   ]
  },
  {
   "cell_type": "code",
   "execution_count": 5,
   "metadata": {
    "collapsed": true
   },
   "outputs": [],
   "source": [
    "# arguments in the listed order\n",
    "# n  = sample size\n",
    "# p1 = baseline value\n",
    "# p2 = baseline value with lift included\n",
    "# cl = confidence level\n",
    "\n",
    "def get_power(n, p1, p2, cl):\n",
    "    alpha = 1 - cl\n",
    "    qu = norm.ppf(1 - alpha/2)\n",
    "    diff = abs(p2 - p1)\n",
    "    bp = (p1 + p2) / 2\n",
    "    v1 = p1 * (1 - p1)\n",
    "    v2 = p2 * (1 - p2)\n",
    "    bv = bp * (1 - bp)\n",
    "    power_part_one = norm.cdf((n**0.5 * diff - qu * (2 * bv)**0.5)/ \n",
    "                            (v1 + v2)**0.5)\n",
    "    power_part_two = 1 - norm.cdf((n**0.5 * diff + qu * (2 * bv)**0.5)/\n",
    "                            (v1 + v2)**0.5)\n",
    "    power = power_part_one + power_part_two\n",
    "    return(power)\n",
    "\n",
    "# ---------------------------------------------------------------------------------------\n",
    "\n",
    "def get_sample_size(power, p1, p2, cl, max_n = 1000000):\n",
    "    n = 1 \n",
    "    while n <= max_n:\n",
    "        tmp_power = get_power(n, p1, p2, cl)\n",
    "        if tmp_power >= power: \n",
    "            return n \n",
    "        else: \n",
    "            n = n + 1\n"
   ]
  },
  {
   "cell_type": "code",
   "execution_count": 6,
   "metadata": {
    "collapsed": true
   },
   "outputs": [],
   "source": [
    "# pre-leaded parameters\n",
    "p1 = 0.1     # baseline value\n",
    "p2 = 0.12    # baseline value with lift included\n",
    "cl = 0.95    # confidence level\n",
    "n1 = 1000    # sample size"
   ]
  },
  {
   "cell_type": "markdown",
   "metadata": {},
   "source": [
    "#### Power Formula\n",
    "- The relation between power and sample size, is that as sample size goes up so too does power.\n",
    "- Additionally, as the confidence level goes up, the power goes down."
   ]
  },
  {
   "cell_type": "markdown",
   "metadata": {},
   "source": [
    "#### Calculate the power using n = 1000 and n = 2000 in that order, along with the pre-loaded parameters, p1, p2, and cl."
   ]
  },
  {
   "cell_type": "code",
   "execution_count": 7,
   "metadata": {},
   "outputs": [
    {
     "name": "stdout",
     "output_type": "stream",
     "text": [
      "0.29808032538146\n",
      "0.524515256115834\n"
     ]
    }
   ],
   "source": [
    "# Look at the impact of sample size increase on power\n",
    "n_param_one = get_power(n=1000, p1=p1, p2=p2, cl=cl)     # sample size = 1,000\n",
    "print(n_param_one)\n",
    "\n",
    "n_param_two = get_power(n=2000, p1=p1, p2=p2, cl=cl)     # sample size = 2,000\n",
    "print(n_param_two)"
   ]
  },
  {
   "cell_type": "markdown",
   "metadata": {},
   "source": [
    "#### Using the variable n1 (1000) for the sample size, find the power with a confidence level of cl = 0.8 and cl = 0.95 in that order."
   ]
  },
  {
   "cell_type": "code",
   "execution_count": 8,
   "metadata": {},
   "outputs": [
    {
     "name": "stdout",
     "output_type": "stream",
     "text": [
      "0.5621010118690234\n",
      "0.29808032538146\n"
     ]
    }
   ],
   "source": [
    "# Look at the impact of confidence level increase on power\n",
    "alpha_param_one = get_power(n=n1, p1=p1, p2=p2, cl=0.8)      # confidence level = 0.8\n",
    "print(alpha_param_one)\n",
    "\n",
    "alpha_param_two = get_power(n=n1, p1=p1, p2=p2, cl=0.95)     # # confidence level = 0.95\n",
    "print(alpha_param_two)"
   ]
  },
  {
   "cell_type": "markdown",
   "metadata": {},
   "source": [
    "#### Compare the ratios. Which change has the bigger impact, increasing the confidence level or the sample size?"
   ]
  },
  {
   "cell_type": "code",
   "execution_count": 9,
   "metadata": {},
   "outputs": [
    {
     "name": "stdout",
     "output_type": "stream",
     "text": [
      "1.7596440001351992\n",
      "1.8857367092232278\n"
     ]
    }
   ],
   "source": [
    "# Compare the ratios\n",
    "print(n_param_two / n_param_one)          # impact on power / by increasing (sample size)\n",
    "print(alpha_param_one / alpha_param_two)  # impact on power / by decreasing (confidence level)"
   ]
  },
  {
   "cell_type": "markdown",
   "metadata": {},
   "source": [
    "With these particular values\n",
    "- Decreasing the confidence level has a slightly larger impact on the power.\n",
    "- Than increasing the sample size."
   ]
  },
  {
   "cell_type": "code",
   "execution_count": null,
   "metadata": {
    "collapsed": true
   },
   "outputs": [],
   "source": []
  }
 ],
 "metadata": {
  "kernelspec": {
   "display_name": "Python 3",
   "language": "python",
   "name": "python3"
  },
  "language_info": {
   "codemirror_mode": {
    "name": "ipython",
    "version": 3
   },
   "file_extension": ".py",
   "mimetype": "text/x-python",
   "name": "python",
   "nbconvert_exporter": "python",
   "pygments_lexer": "ipython3",
   "version": "3.6.2"
  }
 },
 "nbformat": 4,
 "nbformat_minor": 2
}
