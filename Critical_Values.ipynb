{
 "cells": [
  {
   "cell_type": "markdown",
   "metadata": {},
   "source": [
    "# Critical Values"
   ]
  },
  {
   "cell_type": "markdown",
   "metadata": {},
   "source": [
    "#### Critical Values\n",
    "- It is common, to interpret the results of statistical hypothesis tests using a p-value.\n",
    "- Not all implementations of statistical tests return p-values for interpreting the outcome of the test..\n",
    "- In these cases, an alternatives method must be employed for interpreting the calculated test statistic directly, such as critical values.\n",
    "- A statistic calculated by a statistical hypothesis test can be interpreted using critical values from the distribution of the test statistic.\n",
    "- In addition, critical values are used when estimating the expected intervals for observations from a population, such as in tolerance intervals.\n",
    "\n",
    "#### Interpreting Critical Values\n",
    "- Some tests do not return a p-value. Instead, they might return a test statistic value (such as mean) from a speciﬁc data distribution that can be interpreted in the context of critical values.\n",
    "- A critical value is a value from the distribution of the test statistic after which point the result is signiﬁcant and the null hypothesis can be rejected.\n",
    "\n",
    "Test Statistic < Critical Value : NOT signiﬁcant result, fail to reject null hypothesis (H0).\n",
    "\n",
    "Test Statistic ≥ Critical Value : Signiﬁcant result, reject null hypothesis (H1).\n",
    "\n",
    "\n",
    "- It requires that the distribution of the test statistic be known and how to sample the distribution to retrieve the critical value. The p-value is calculated from the critical value. \n",
    "\n",
    "Again, the meaning of the result is similar in that the chosen signiﬁcance level is a probabilistic decision on the rejection or failure of rejection of the base assumption of the test given the data. Results are presented in the same way as with a p-value, as either signiﬁcance level or conﬁdence level. For example, if a normality test was calculated and the test statistic was compared to the critical value at the 5% signiﬁcance level, results could be stated as:\n",
    "\n",
    "The test found that the data sample was normal, failing to reject the null hypothesis at a 5% signiﬁcance level.\n",
    "\n",
    "Or:\n",
    "\n",
    "The test found that the data was normal, failing to reject the null hypothesis at a 95% conﬁdence level.\n",
    "\n",
    "Some examples of statistical hypothesis tests and their distributions from which critical values can be calculated are as follows:\n",
    "- #### Z Test: Gaussian distribution.\n",
    "- #### Student’s t-Test: Student’s t-distribution.\n",
    "- #### Chi-Squared Test: Chi-Squared distribution.\n",
    "- #### F-distribution.\n",
    "\n",
    "Critical values are also used when deﬁning intervals for expected (or unexpected) observations in distributions. Calculating and using critical values may be appropriate when quantifying the uncertainty of estimated statistics or intervals such as conﬁdence intervals and tolerance intervals. Note, a p-value can be calculated from a test statistic by retrieving the probability from the test statistics cumulative density function (CDF).\n",
    "\n",
    "#### What Is a Critical Value\n",
    "- A critical value is deﬁned in the context of the population distribution and a probability.\n",
    "- An observation from the population with a value equal to or lesser than a critical value with the given probability.\n",
    "- Can express this mathematically as follows:\n",
    "\n",
    "Pr[X ≤ critical value] = probability\n",
    "\n",
    "- Where Pr is the calculation of probability.\n",
    "- X are observations from the population.\n",
    "- Critical value is the calculated critical value.\n",
    "- Probability is the chosen probability.\n",
    "\n",
    "- Critical values are calculated using a mathematical function where the probability is provided as an argument.\n",
    "- For most common distributions, the value cannot be calculated analytically; instead it must be estimated using numerical methods.\n",
    "- Historically it is common for tables of pre-calculated critical values to be provided in the appendices of statistics textbooks for reference purposes.\n",
    "- Critical values are used in statistical signiﬁcance testing.\n",
    "- The probability is often expressed as a signiﬁcance, denoted as the lowercase Greek letter alpha (α), which is the inverted probability.\n",
    "\n",
    "probability = 1−alpha\n",
    "\n",
    "Standard alpha values are used when calculating critical values, chosen for historical reasons and continually used for consistency reasons.\n",
    "\n",
    "These alpha values include:\n",
    "- 1% (alpha=0.01)\n",
    "- 5% (alpha=0.05)\n",
    "- 10% (alpha=0.10)\n",
    "\n",
    "Critical values provide an alternative and equivalent way to interpret statistical hypothesis tests to the p-value.\n"
   ]
  },
  {
   "cell_type": "markdown",
   "metadata": {},
   "source": [
    "## Terms\n",
    "\n",
    "### Quantile Function\n",
    "In probability and statistics, the **quantile function**, associated with a probability distribution of a random variable, specifies the value of the random variable such that the probability of the variable being less than or equal to that value equals the given probability. It is also called the **percent-point function** or **inverse cumulative distribution function**.\n",
    "\n",
    "### Percentage Point\n",
    "A **percentage point** or **percent point** is the unit for the arithmetic difference of two percentages. For example, moving up from 40% to 44% is a 4 percentage point increase, but is an actual 10 percent increase in what is being measured.  percentages indicate ratios, not differences."
   ]
  },
  {
   "cell_type": "markdown",
   "metadata": {},
   "source": [
    "- The percent point function can be calculated in SciPy using the ppf() function on a given distribution.\n",
    "- It should also be noted that you can also calculate the ppf() using the inverse survival function called isf() in SciPy.\n",
    "- These alternate approaches may be used in third party code."
   ]
  },
  {
   "cell_type": "markdown",
   "metadata": {},
   "source": [
    "## --------------------------------------------------------------------------------"
   ]
  },
  {
   "cell_type": "markdown",
   "metadata": {
    "collapsed": true
   },
   "source": [
    "### gaussian percent point function"
   ]
  },
  {
   "cell_type": "markdown",
   "metadata": {},
   "source": [
    "The example below calculates the percent point function for 95% on the standard Gaussian distribution."
   ]
  },
  {
   "cell_type": "code",
   "execution_count": 1,
   "metadata": {},
   "outputs": [
    {
     "name": "stdout",
     "output_type": "stream",
     "text": [
      "1.6448536269514722\n",
      "0.95\n"
     ]
    }
   ],
   "source": [
    "from scipy.stats import norm\n",
    "\n",
    "# define probability\n",
    "p = 0.95\n",
    "\n",
    "# retrieve value <= probability\n",
    "value = norm.ppf(p)\n",
    "print(value)\n",
    "\n",
    "# confirm with cdf\n",
    "p = norm.cdf(value)\n",
    "print(p)"
   ]
  },
  {
   "cell_type": "markdown",
   "metadata": {
    "collapsed": true
   },
   "source": [
    "#### Sample output from calculating critical values for the Gaussian distribution.\n",
    "- The above example ﬁrst prints the value that marks 95% or less of the observations from the distribution of about 1.65.\n",
    "- This value is then conﬁrmed by retrieving the probability of the observation from the CDF, which returns 95%, as expected.\n",
    "- We can see that the value 1.65 aligns with our expectation with regard to the number of standard deviations from the mean that cover 95% of the distribution in the 68-95-99.7 rule.\n"
   ]
  },
  {
   "cell_type": "markdown",
   "metadata": {},
   "source": [
    "##### Calculate critical values for 90% for the Gaussian distributions."
   ]
  },
  {
   "cell_type": "code",
   "execution_count": 2,
   "metadata": {},
   "outputs": [
    {
     "name": "stdout",
     "output_type": "stream",
     "text": [
      "1.2815515655446004\n",
      "0.8999999999999999\n"
     ]
    }
   ],
   "source": [
    "# define probability\n",
    "p = 0.90\n",
    "\n",
    "# retrieve value <= probability\n",
    "value = norm.ppf(p)\n",
    "print(value)\n",
    "\n",
    "# confirm with cdf\n",
    "p = norm.cdf(value)\n",
    "print(p)"
   ]
  },
  {
   "cell_type": "markdown",
   "metadata": {},
   "source": [
    "##### Calculate critical values for 99% for the Gaussian distributions."
   ]
  },
  {
   "cell_type": "code",
   "execution_count": 3,
   "metadata": {},
   "outputs": [
    {
     "name": "stdout",
     "output_type": "stream",
     "text": [
      "2.3263478740408408\n",
      "0.99\n"
     ]
    }
   ],
   "source": [
    "# define probability\n",
    "p = 0.99\n",
    "\n",
    "# retrieve value <= probability\n",
    "value = norm.ppf(p)\n",
    "print(value)\n",
    "\n",
    "# confirm with cdf\n",
    "p = norm.cdf(value)\n",
    "print(p)"
   ]
  },
  {
   "cell_type": "markdown",
   "metadata": {},
   "source": [
    "## --------------------------------------------------------------------------------"
   ]
  },
  {
   "cell_type": "markdown",
   "metadata": {
    "collapsed": true
   },
   "source": [
    "### student t-distribution percent point function"
   ]
  },
  {
   "cell_type": "markdown",
   "metadata": {},
   "source": [
    "The example below calculates the percentage point function for 95% on the standard Student’s t-distribution with 10 degrees of freedom."
   ]
  },
  {
   "cell_type": "code",
   "execution_count": 4,
   "metadata": {},
   "outputs": [
    {
     "name": "stdout",
     "output_type": "stream",
     "text": [
      "1.8124611228107335\n",
      "0.949999999999923\n"
     ]
    }
   ],
   "source": [
    "from scipy.stats import t\n",
    "\n",
    "# define probability\n",
    "p = 0.95\n",
    "df = 10\n",
    "\n",
    "# retrieve value <= probability\n",
    "value = t.ppf(p, df)\n",
    "print(value)\n",
    "\n",
    "# confirm with cdf\n",
    "p = t.cdf(value, df)\n",
    "print(p)"
   ]
  },
  {
   "cell_type": "markdown",
   "metadata": {
    "collapsed": true
   },
   "source": [
    "#### Sample output from calculating critical values for the t distribution.¶\n",
    "- The above example returns the value of about 1.812 or less that covers 95% of the observations from the chosen distribution.\n",
    "- The probability of the value is then conﬁrmed (with minor rounding error) via the CDF."
   ]
  },
  {
   "cell_type": "markdown",
   "metadata": {},
   "source": [
    "##### Calculate critical values for 90% for the t distribution."
   ]
  },
  {
   "cell_type": "code",
   "execution_count": 5,
   "metadata": {},
   "outputs": [
    {
     "name": "stdout",
     "output_type": "stream",
     "text": [
      "1.3721836411102863\n",
      "0.8999999999999926\n"
     ]
    }
   ],
   "source": [
    "# define probability\n",
    "p = 0.90\n",
    "df = 10\n",
    "\n",
    "# retrieve value <= probability\n",
    "value = t.ppf(p, df)\n",
    "print(value)\n",
    "\n",
    "# confirm with cdf\n",
    "p = t.cdf(value, df)\n",
    "print(p)"
   ]
  },
  {
   "cell_type": "markdown",
   "metadata": {},
   "source": [
    "##### Calculate critical values for 99% for the t distribution."
   ]
  },
  {
   "cell_type": "code",
   "execution_count": 6,
   "metadata": {},
   "outputs": [
    {
     "name": "stdout",
     "output_type": "stream",
     "text": [
      "2.763769457447889\n",
      "0.9899999999885913\n"
     ]
    }
   ],
   "source": [
    "# define probability\n",
    "p = 0.99\n",
    "df = 10\n",
    "\n",
    "# retrieve value <= probability\n",
    "value = t.ppf(p, df)\n",
    "print(value)\n",
    "\n",
    "# confirm with cdf\n",
    "p = t.cdf(value, df)\n",
    "print(p)"
   ]
  },
  {
   "cell_type": "markdown",
   "metadata": {},
   "source": [
    "## --------------------------------------------------------------------------------"
   ]
  },
  {
   "cell_type": "markdown",
   "metadata": {
    "collapsed": true
   },
   "source": [
    "### chi-squared percent point function"
   ]
  },
  {
   "cell_type": "markdown",
   "metadata": {},
   "source": [
    "The example below calculates the percentage point function for 95% on the standard Chi-Squared distribution with 10 degrees of freedom."
   ]
  },
  {
   "cell_type": "code",
   "execution_count": 7,
   "metadata": {},
   "outputs": [
    {
     "name": "stdout",
     "output_type": "stream",
     "text": [
      "18.307038053275143\n",
      "0.95\n"
     ]
    }
   ],
   "source": [
    "from scipy.stats import chi2\n",
    "\n",
    "# define probability\n",
    "p = 0.95\n",
    "df = 10\n",
    "\n",
    "# retrieve value <= probability\n",
    "value = chi2.ppf(p, df)\n",
    "print(value)\n",
    "\n",
    "# confirm with cdf\n",
    "p = chi2.cdf(value, df)\n",
    "print(p)"
   ]
  },
  {
   "cell_type": "markdown",
   "metadata": {
    "collapsed": true
   },
   "source": [
    "#### Sample output from calculating critical values for the Chi-Squared distribution."
   ]
  },
  {
   "cell_type": "markdown",
   "metadata": {
    "collapsed": true
   },
   "source": [
    "#### Sample output from calculating critical values for the Chi-Squared distribution.\n",
    "- The above example ﬁrst calculates the value of 18.3 or less that covers 95% of the observations from the distribution.\n",
    "- The probability of this observation is conﬁrmed by using it as input to the CDF."
   ]
  },
  {
   "cell_type": "markdown",
   "metadata": {
    "collapsed": true
   },
   "source": [
    "##### Calculate critical values for 90% for the Chi-Squared distribution."
   ]
  },
  {
   "cell_type": "code",
   "execution_count": 8,
   "metadata": {},
   "outputs": [
    {
     "name": "stdout",
     "output_type": "stream",
     "text": [
      "15.987179172105263\n",
      "0.9\n"
     ]
    }
   ],
   "source": [
    "from scipy.stats import chi2\n",
    "\n",
    "# define probability\n",
    "p = 0.90\n",
    "df = 10\n",
    "\n",
    "# retrieve value <= probability\n",
    "value = chi2.ppf(p, df)\n",
    "print(value)\n",
    "\n",
    "# confirm with cdf\n",
    "p = chi2.cdf(value, df)\n",
    "print(p)"
   ]
  },
  {
   "cell_type": "markdown",
   "metadata": {},
   "source": [
    "##### Calculate critical values for 99% for the Chi-Squared distribution."
   ]
  },
  {
   "cell_type": "code",
   "execution_count": 9,
   "metadata": {},
   "outputs": [
    {
     "name": "stdout",
     "output_type": "stream",
     "text": [
      "23.209251158954356\n",
      "0.99\n"
     ]
    }
   ],
   "source": [
    "from scipy.stats import chi2\n",
    "\n",
    "# define probability\n",
    "p = 0.99\n",
    "df = 10\n",
    "\n",
    "# retrieve value <= probability\n",
    "value = chi2.ppf(p, df)\n",
    "print(value)\n",
    "\n",
    "# confirm with cdf\n",
    "p = chi2.cdf(value, df)\n",
    "print(p)"
   ]
  },
  {
   "cell_type": "code",
   "execution_count": null,
   "metadata": {
    "collapsed": true
   },
   "outputs": [],
   "source": []
  }
 ],
 "metadata": {
  "kernelspec": {
   "display_name": "Python 3",
   "language": "python",
   "name": "python3"
  },
  "language_info": {
   "codemirror_mode": {
    "name": "ipython",
    "version": 3
   },
   "file_extension": ".py",
   "mimetype": "text/x-python",
   "name": "python",
   "nbconvert_exporter": "python",
   "pygments_lexer": "ipython3",
   "version": "3.6.2"
  }
 },
 "nbformat": 4,
 "nbformat_minor": 2
}
