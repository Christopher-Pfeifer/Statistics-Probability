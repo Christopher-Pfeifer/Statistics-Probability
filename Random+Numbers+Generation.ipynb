{
 "cells": [
  {
   "cell_type": "markdown",
   "metadata": {},
   "source": [
    "## Generating random numbers and samples in python"
   ]
  },
  {
   "cell_type": "code",
   "execution_count": 1,
   "metadata": {
    "collapsed": true
   },
   "outputs": [],
   "source": [
    "from random import seed\n",
    "from random import random\n",
    "\n",
    "from matplotlib import pyplot as plt"
   ]
  },
  {
   "cell_type": "markdown",
   "metadata": {},
   "source": [
    "# Random Numbers Generation"
   ]
  },
  {
   "cell_type": "markdown",
   "metadata": {},
   "source": [
    "#### OneNote: Statistics for ML / Sampling and Resampling / Random Numbers"
   ]
  },
  {
   "cell_type": "markdown",
   "metadata": {},
   "source": [
    "## ---------------------------------------------------------------------------------------------"
   ]
  },
  {
   "cell_type": "markdown",
   "metadata": {},
   "source": [
    "### When to use random number generation?\n",
    "- We want the computer to pick a random number in a given range\n",
    "- Pick a random element from a list, pick a random card from a deck, flip a coin\n",
    "- etc. "
   ]
  },
  {
   "cell_type": "markdown",
   "metadata": {},
   "source": [
    "### seed the pseudorandom number generator"
   ]
  },
  {
   "cell_type": "code",
   "execution_count": 2,
   "metadata": {},
   "outputs": [
    {
     "name": "stdout",
     "output_type": "stream",
     "text": [
      "0.13436424411240122 0.8474337369372327 0.763774618976614\n",
      "0.13436424411240122 0.8474337369372327 0.763774618976614\n"
     ]
    }
   ],
   "source": [
    "# seed random number generator\n",
    "seed(1)\n",
    "\n",
    "# generate some random numbers\n",
    "print(random(), random(), random())\n",
    "\n",
    "# reset the seed\n",
    "seed(1)\n",
    "\n",
    "# generate some random numbers\n",
    "print(random(), random(), random())"
   ]
  },
  {
   "cell_type": "markdown",
   "metadata": {
    "collapsed": true
   },
   "source": [
    "Running the example seeds the pseudorandom number generator with the value 1, generates 3 random numbers, reseeds the generator, and shows that the same three random numbers are generated.\n",
    "\n",
    "It can be useful to control the randomness by setting the seed to ensure that your code produces the same result each time, such as in a production model.\n",
    "\n",
    "For running experiments where randomization is used to control for confounding variables, a diﬀerent seed may be used for each experimental run."
   ]
  },
  {
   "cell_type": "markdown",
   "metadata": {},
   "source": [
    "## ---------------------------------------------------------------------------------------------"
   ]
  },
  {
   "cell_type": "markdown",
   "metadata": {},
   "source": [
    "### generate random floating point values\n",
    "Random ﬂoating point values can be generated using the random() function. Values will be generated in the range between 0 and 1, speciﬁcally in the interval [0,1). Values are drawn from a uniform distribution, meaning each value has an equal chance of being drawn. "
   ]
  },
  {
   "cell_type": "code",
   "execution_count": 3,
   "metadata": {},
   "outputs": [
    {
     "name": "stdout",
     "output_type": "stream",
     "text": [
      "0.13436424411240122\n",
      "0.8474337369372327\n",
      "0.763774618976614\n",
      "0.2550690257394217\n",
      "0.49543508709194095\n",
      "0.4494910647887381\n",
      "0.651592972722763\n",
      "0.7887233511355132\n",
      "0.0938595867742349\n",
      "0.02834747652200631\n"
     ]
    }
   ],
   "source": [
    "# seed random number generator\n",
    "seed(1)\n",
    "\n",
    "# generate random numbers between 0-1\n",
    "for _ in range(10):\n",
    "    value = random()\n",
    "    print(value)"
   ]
  },
  {
   "cell_type": "markdown",
   "metadata": {},
   "source": [
    "#### scaling\n",
    "The ﬂoating point values could be rescaled to a desired range by multiplying them by the size of the new range and adding the min value, as follows:\n",
    "\n",
    "scaledvalue = min + (value×(max−min)) \n",
    "\n",
    "Where min and max are the minimum and maximum values of the desired range respectively, and value is the randomly generated ﬂoating point value in the range between 0 and 1."
   ]
  },
  {
   "cell_type": "code",
   "execution_count": 4,
   "metadata": {},
   "outputs": [
    {
     "name": "stdout",
     "output_type": "stream",
     "text": [
      "8.521885935278828\n",
      "4.89490361114548\n",
      "7.860520742121478\n",
      "1.0189544801599961\n",
      "5.008484746493213\n",
      "7.493860291067043\n",
      "3.058859991434074\n",
      "9.507436259985301\n",
      "9.112847118503351\n",
      "1.275309847301982\n"
     ]
    }
   ],
   "source": [
    "# generate random numbers between 0-1\n",
    "for _ in range(10):\n",
    "    value = random()\n",
    "    scaledvalue = 1 + (value*(10-1))\n",
    "    print(scaledvalue)"
   ]
  },
  {
   "cell_type": "markdown",
   "metadata": {
    "collapsed": true
   },
   "source": [
    "## ---------------------------------------------------------------------------------------------"
   ]
  },
  {
   "cell_type": "markdown",
   "metadata": {
    "collapsed": true
   },
   "source": [
    "### generate random integer values\n",
    "\n",
    "Random integer values can be generated with the randint() function. This function takes two arguments: the start and the end of the range for the generated integer values. Random integers are generated within and including the start and end of range values, speciﬁcally in the interval [start, end]. Random values are drawn from a uniform distribution. The example below generates 10 random integer values between 0 and 10."
   ]
  },
  {
   "cell_type": "code",
   "execution_count": 5,
   "metadata": {},
   "outputs": [
    {
     "name": "stdout",
     "output_type": "stream",
     "text": [
      "2\n",
      "9\n",
      "1\n",
      "4\n",
      "1\n",
      "7\n",
      "7\n",
      "7\n",
      "10\n",
      "6\n"
     ]
    }
   ],
   "source": [
    "from random import randint\n",
    "\n",
    "# seed random number generator\n",
    "seed(1)\n",
    "\n",
    "# generate some integers\n",
    "for _ in range(10):\n",
    "    value = randint(0, 10)\n",
    "    print(value)"
   ]
  },
  {
   "cell_type": "code",
   "execution_count": 6,
   "metadata": {},
   "outputs": [
    {
     "name": "stdout",
     "output_type": "stream",
     "text": [
      "2800\n",
      "1000\n",
      "6400\n",
      "100\n",
      "5500\n",
      "5500\n",
      "8200\n",
      "100\n",
      "6400\n",
      "3700\n"
     ]
    }
   ],
   "source": [
    "# scaling generated integers\n",
    "for _ in range(10):\n",
    "    value = randint(0, 10)\n",
    "    scaledvalue = 100 + (value*(1000-100))  # see above note on scaling\n",
    "    print(scaledvalue)"
   ]
  },
  {
   "cell_type": "markdown",
   "metadata": {},
   "source": [
    "## ---------------------------------------------------------------------------------------------"
   ]
  },
  {
   "cell_type": "markdown",
   "metadata": {},
   "source": [
    "### Random Gaussian Values\n",
    "Random ﬂoating point values can be drawn from a Gaussian distribution using the gauss() function. This function takes two arguments that correspond to the parameters that control the size of the distribution, speciﬁcally the mean and the standard deviation. The example below generates 10 random values drawn from a Gaussian distribution with a mean of 0.0 and a standard deviation of 1.0. Note that these parameters are not the bounds on the values and that the spread of the values will be controlled by the bell shape of the distribution, in this case proportionately likely above and below 0.0."
   ]
  },
  {
   "cell_type": "code",
   "execution_count": 7,
   "metadata": {},
   "outputs": [
    {
     "name": "stdout",
     "output_type": "stream",
     "text": [
      "1.2881847531554629\n",
      "1.449445608699771\n",
      "0.06633580893826191\n",
      "-0.7645436509716318\n",
      "-1.0921732151041414\n",
      "0.03133451683171687\n",
      "-1.022103170010873\n",
      "-1.4368294451025299\n",
      "0.19931197648375384\n",
      "0.13337460465860485\n"
     ]
    }
   ],
   "source": [
    "# generate random Gaussian values\n",
    "from random import seed\n",
    "from random import gauss\n",
    "\n",
    "# seed random number generator\n",
    "seed(1)\n",
    "\n",
    "# generate some Gaussian values\n",
    "for _ in range(10):\n",
    "    value = gauss(0, 1)\n",
    "    print(value)"
   ]
  },
  {
   "cell_type": "code",
   "execution_count": 8,
   "metadata": {},
   "outputs": [
    {
     "data": {
      "image/png": "[encoded data removed]",
      "text/plain": [
       "<Figure size 432x288 with 1 Axes>"
      ]
     },
     "metadata": {},
     "output_type": "display_data"
    }
   ],
   "source": [
    "# generate random Gaussian values as a population sample.\n",
    "# plot with histogram to show the gaussian distribution.\n",
    "\n",
    "from random import seed\n",
    "from random import gauss\n",
    "\n",
    "sample = [ ] # empty list to store the generated random gaussian values\n",
    "\n",
    "seed(1)  # seed random number generator\n",
    "\n",
    "# generate some Gaussian values\n",
    "for _ in range(1000):\n",
    "    value = gauss(0, 1)\n",
    "    #print(value)\n",
    "    sample.append(value)\n",
    "\n",
    "plt.hist(sample, bins=7)\n",
    "plt.show()"
   ]
  },
  {
   "cell_type": "code",
   "execution_count": 9,
   "metadata": {},
   "outputs": [
    {
     "data": {
      "image/png": "[encoded data removed]",
      "text/plain": [
       "<Figure size 432x288 with 1 Axes>"
      ]
     },
     "metadata": {},
     "output_type": "display_data"
    }
   ],
   "source": [
    "plt.hist(sample, bins=100)\n",
    "plt.show()"
   ]
  },
  {
   "cell_type": "code",
   "execution_count": 10,
   "metadata": {},
   "outputs": [
    {
     "data": {
      "image/png": "[encoded data removed]",
      "text/plain": [
       "<Figure size 432x288 with 1 Axes>"
      ]
     },
     "metadata": {},
     "output_type": "display_data"
    }
   ],
   "source": [
    "plt.hist(sample, bins=500)\n",
    "plt.show()"
   ]
  },
  {
   "cell_type": "markdown",
   "metadata": {},
   "source": [
    "## ---------------------------------------------------------------------------------------------"
   ]
  },
  {
   "cell_type": "markdown",
   "metadata": {},
   "source": [
    "### Randomly Choosing From a List\n",
    "Random numbers can be used to randomly choose an item from a list. For example, if a list had 10 items with indexes between 0 and 9, then you could generate a random integer between 0 and 9 and use it to randomly select an item from the list. The choice() function implements this behavior for you. Selections are made with a uniform likelihood. The example below generates a list of 20 integers and gives ﬁve examples of choosing one random item from the list."
   ]
  },
  {
   "cell_type": "code",
   "execution_count": 11,
   "metadata": {},
   "outputs": [
    {
     "name": "stdout",
     "output_type": "stream",
     "text": [
      "[0, 1, 2, 3, 4, 5, 6, 7, 8, 9, 10, 11, 12, 13, 14, 15, 16, 17, 18, 19]\n",
      "4\n",
      "18\n",
      "2\n",
      "8\n",
      "3\n"
     ]
    }
   ],
   "source": [
    "# choose a random element from a list\n",
    "from random import seed\n",
    "from random import choice\n",
    "\n",
    "# seed random number generator\n",
    "seed(1)\n",
    "\n",
    "# prepare a sequence\n",
    "sequence = [i for i in range(20)]\n",
    "print(sequence)\n",
    "\n",
    "# make choices from the sequence\n",
    "for _ in range(5):\n",
    "    selection = choice(sequence)\n",
    "    print(selection)"
   ]
  },
  {
   "cell_type": "code",
   "execution_count": 12,
   "metadata": {},
   "outputs": [
    {
     "data": {
      "text/plain": [
       "'orange'"
      ]
     },
     "execution_count": 12,
     "metadata": {},
     "output_type": "execute_result"
    }
   ],
   "source": [
    "choice( ['red', 'black', 'green', 'orange', 'white'] )"
   ]
  },
  {
   "cell_type": "code",
   "execution_count": 13,
   "metadata": {},
   "outputs": [
    {
     "data": {
      "text/plain": [
       "'orange'"
      ]
     },
     "execution_count": 13,
     "metadata": {},
     "output_type": "execute_result"
    }
   ],
   "source": [
    "choices = ['red', 'black', 'green', 'orange', 'white']\n",
    "choice(choices)"
   ]
  },
  {
   "cell_type": "markdown",
   "metadata": {
    "collapsed": true
   },
   "source": [
    "## ---------------------------------------------------------------------------------------------"
   ]
  },
  {
   "cell_type": "markdown",
   "metadata": {},
   "source": [
    "### Random Subsample From a List\n",
    "We may be interested in repeating the random selection of items from a list to create a randomly chosen subset. Importantly, once an item is selected from the list and added to the subset, it should not be added again. This is called selection without replacement because once an item from the list is selected for the subset, it is not added back to the original list (i.e. is not made available for re-selection). This behavior is provided in the sample() function that selects a random sample from a list without replacement. The function takes both the list and the size of the subset to select as arguments. Note that items are not actually removed from the original list, only selected into a copy of the list. The example below demonstrates selecting a subset of ﬁve items from a list of 20 integers."
   ]
  },
  {
   "cell_type": "code",
   "execution_count": 14,
   "metadata": {},
   "outputs": [
    {
     "name": "stdout",
     "output_type": "stream",
     "text": [
      "[0, 1, 2, 3, 4, 5, 6, 7, 8, 9, 10, 11, 12, 13, 14, 15, 16, 17, 18, 19]\n",
      "[4, 18, 2, 8, 3]\n"
     ]
    }
   ],
   "source": [
    "# select a random sample without replacement\n",
    "from random import seed\n",
    "from random import sample\n",
    "\n",
    "# seed random number generator\n",
    "seed(1)\n",
    "\n",
    "# prepare a sequence\n",
    "sequence = [i for i in range(20)]\n",
    "print(sequence)\n",
    "\n",
    "# select a subset without replacement\n",
    "subset = sample(sequence, 5)\n",
    "print(subset)"
   ]
  },
  {
   "cell_type": "markdown",
   "metadata": {
    "collapsed": true
   },
   "source": [
    "## ---------------------------------------------------------------------------------------------"
   ]
  },
  {
   "cell_type": "markdown",
   "metadata": {
    "collapsed": true
   },
   "source": [
    "### Randomly Shuﬄe a List\n",
    "Randomness can be used to shuﬄe a list of items, like shuﬄing a deck of cards. The shuffle() function can be used to shuﬄe a list. The shuﬄe is performed in place, meaning that the list provided as an argument to the shuffle() function is shuﬄed rather than a shuﬄed copy of the list being made and returned. The example below demonstrates randomly shuﬄing a list of integer values."
   ]
  },
  {
   "cell_type": "code",
   "execution_count": 15,
   "metadata": {},
   "outputs": [
    {
     "name": "stdout",
     "output_type": "stream",
     "text": [
      "[0, 1, 2, 3, 4, 5, 6, 7, 8, 9, 10, 11, 12, 13, 14, 15, 16, 17, 18, 19]\n",
      "[11, 5, 17, 19, 9, 0, 16, 1, 15, 6, 10, 13, 14, 12, 7, 3, 8, 2, 18, 4]\n"
     ]
    }
   ],
   "source": [
    "# randomly shuffle a sequence\n",
    "from random import seed\n",
    "from random import shuffle\n",
    "\n",
    "# seed random number generator\n",
    "seed(1)\n",
    "\n",
    "# prepare a sequence\n",
    "sequence = [i for i in range(20)]\n",
    "print(sequence)\n",
    "\n",
    "# randomly shuffle the sequence\n",
    "shuffle(sequence)\n",
    "print(sequence)"
   ]
  },
  {
   "cell_type": "markdown",
   "metadata": {},
   "source": [
    "# =============================================="
   ]
  },
  {
   "cell_type": "markdown",
   "metadata": {},
   "source": [
    "# NumPy"
   ]
  },
  {
   "cell_type": "markdown",
   "metadata": {},
   "source": [
    "### Random Numbers with NumPy\n",
    "In machine learning, you are likely using libraries such as scikit-learn and Keras. These libraries make use of NumPy under the covers, a library that makes working with vectors and matrices of numbers very eﬃcient. NumPy also has its own implementation of a pseudorandom number generator and convenience wrapper functions. NumPy also implements the Mersenne Twister pseudorandom number generator. Let’s look at a few examples of generating random numbers and using randomness with NumPy arrays.\n",
    "\n",
    "#### Seed The Random Number Generator\n",
    "The NumPy pseudorandom number generator is diﬀerent from the Python standard library pseudorandom number generator. Importantly, seeding the Python pseudorandom number generator does not impact the NumPy pseudorandom number generator. It must be seeded and used separately. The seed() function can be used to seed the NumPy pseudorandom number generator, taking an integer as the seed value. The example below demonstrates how to seed the generator and how reseeding the generator will result in the same sequence of random numbers being generated."
   ]
  },
  {
   "cell_type": "code",
   "execution_count": 16,
   "metadata": {},
   "outputs": [
    {
     "name": "stdout",
     "output_type": "stream",
     "text": [
      "[4.17022005e-01 7.20324493e-01 1.14374817e-04]\n",
      "[4.17022005e-01 7.20324493e-01 1.14374817e-04]\n"
     ]
    }
   ],
   "source": [
    "# seed the pseudorandom number generator\n",
    "from numpy.random import seed\n",
    "from numpy.random import rand\n",
    "\n",
    "# seed random number generator\n",
    "seed(1)\n",
    "\n",
    "# generate some random numbers\n",
    "print(rand(3))\n",
    "\n",
    "# reset the seed\n",
    "seed(1)\n",
    "\n",
    "# generate some random numbers\n",
    "print(rand(3))"
   ]
  },
  {
   "cell_type": "code",
   "execution_count": 17,
   "metadata": {},
   "outputs": [
    {
     "name": "stdout",
     "output_type": "stream",
     "text": [
      "[4.17022005e-01 7.20324493e-01 1.14374817e-04]\n",
      "[4.17022005e-01 7.20324493e-01 1.14374817e-04]\n"
     ]
    }
   ],
   "source": [
    "# a more conventional way to call numpy functions\n",
    "import numpy as np\n",
    "\n",
    "# seed random number generator\n",
    "np.random.seed(1)\n",
    "\n",
    "# generate some random numbers\n",
    "print(np.random.rand(3))\n",
    "\n",
    "# reset the seed\n",
    "np.random.seed(1)\n",
    "\n",
    "# generate some random numbers\n",
    "print(np.random.rand(3))"
   ]
  },
  {
   "cell_type": "markdown",
   "metadata": {},
   "source": [
    "### Array of Random Floating Point Values\n",
    "An array of random ﬂoating point values can be generated with the rand() NumPy function. If no argument is provided, then a single random value is created, otherwise the size of the array can be speciﬁed. The example below creates an array of 10 random ﬂoating point values drawn from a uniform distribution."
   ]
  },
  {
   "cell_type": "code",
   "execution_count": 18,
   "metadata": {},
   "outputs": [
    {
     "name": "stdout",
     "output_type": "stream",
     "text": [
      "[4.17022005e-01 7.20324493e-01 1.14374817e-04 3.02332573e-01\n",
      " 1.46755891e-01 9.23385948e-02 1.86260211e-01 3.45560727e-01\n",
      " 3.96767474e-01 5.38816734e-01]\n"
     ]
    }
   ],
   "source": [
    "# generate random floating point values\n",
    "from numpy.random import seed\n",
    "from numpy.random import rand\n",
    "# seed random number generator\n",
    "seed(1)\n",
    "# generate random numbers between 0-1\n",
    "values = rand(10)\n",
    "print(values)"
   ]
  },
  {
   "cell_type": "markdown",
   "metadata": {},
   "source": [
    "### Array of Random Integer Values\n",
    "An array of random integers can be generated using the randint() NumPy function. This function takes three arguments, the lower end of the range, the upper end of the range, and the number of integer values to generate or the size of the array. Random integers will be drawn from a uniform distribution including the lower value and excluding the upper value, e.g. in the interval [lower, upper). The example below demonstrates generating an array of random integers."
   ]
  },
  {
   "cell_type": "code",
   "execution_count": 19,
   "metadata": {},
   "outputs": [
    {
     "name": "stdout",
     "output_type": "stream",
     "text": [
      "[5 8 9 5 0 0 1 7 6 9 2 4 5 2 4 2 4 7 7 9]\n"
     ]
    }
   ],
   "source": [
    "# generate random integer values\n",
    "from numpy.random import seed\n",
    "from numpy.random import randint\n",
    "# seed random number generator\n",
    "seed(1)\n",
    "# generate some integers\n",
    "values = randint(0, 10, 20)\n",
    "print(values)"
   ]
  },
  {
   "cell_type": "markdown",
   "metadata": {},
   "source": [
    "### Array of Random Gaussian Values\n",
    "An array of random Gaussian values can be generated using the randn() NumPy function. This function takes a single argument to specify the size of the resulting array. The Gaussian values are drawn from a standard Gaussian distribution; this is a distribution that has a mean of 0.0 and a standard deviation of 1.0. The example below shows how to generate an array of random Gaussian values."
   ]
  },
  {
   "cell_type": "code",
   "execution_count": 20,
   "metadata": {},
   "outputs": [
    {
     "name": "stdout",
     "output_type": "stream",
     "text": [
      "[ 1.62434536 -0.61175641 -0.52817175 -1.07296862  0.86540763 -2.3015387\n",
      "  1.74481176 -0.7612069   0.3190391  -0.24937038]\n"
     ]
    }
   ],
   "source": [
    "# generate random Gaussian values\n",
    "from numpy.random import seed\n",
    "from numpy.random import randn\n",
    "# seed random number generator\n",
    "seed(1)\n",
    "# generate some Gaussian values\n",
    "values = randn(10)\n",
    "print(values)"
   ]
  },
  {
   "cell_type": "markdown",
   "metadata": {},
   "source": [
    "### Scaling\n",
    "Values from a standard Gaussian distribution can be scaled by multiplying the value by the standard deviation and adding the mean from the desired scaled distribution.\n",
    "\n",
    "For example:\n",
    "scaledvalue = mean + value×stdev \n",
    "\n",
    "Where mean and stdev are the mean and standard deviation for the desired scaled Gaussian distribution and value is the randomly generated value from a standard Gaussian distribution."
   ]
  },
  {
   "cell_type": "code",
   "execution_count": 21,
   "metadata": {},
   "outputs": [
    {
     "name": "stdout",
     "output_type": "stream",
     "text": [
      "[14.06086341  8.47060897  8.67957062  7.31757844 12.16351907  4.24615326\n",
      " 14.36202941  8.09698275 10.79759774  9.37657406]\n"
     ]
    }
   ],
   "source": [
    "# generate random Gaussian values\n",
    "from numpy.random import seed\n",
    "from numpy.random import randn\n",
    "# seed random number generator\n",
    "seed(1)\n",
    "# generate some Gaussian values\n",
    "values = randn(10)\n",
    "scaledvalues = 10 + values * 2.5   # mean = 10, standard deviation = 2.5\n",
    "print(scaledvalues)"
   ]
  },
  {
   "cell_type": "code",
   "execution_count": 22,
   "metadata": {},
   "outputs": [
    {
     "name": "stdout",
     "output_type": "stream",
     "text": [
      "9.75714777298475\n",
      "2.977246380159755\n"
     ]
    }
   ],
   "source": [
    "print(scaledvalues.mean())  # mean of the scaled values\n",
    "print(scaledvalues.std())   # standard deviation of the scaled values"
   ]
  },
  {
   "cell_type": "markdown",
   "metadata": {},
   "source": [
    "### Shuﬄe NumPy Array\n",
    "A NumPy array can be randomly shuﬄed in-place using the shuffle() NumPy function. The example below demonstrates how to shuﬄe a NumPy array."
   ]
  },
  {
   "cell_type": "code",
   "execution_count": 23,
   "metadata": {},
   "outputs": [
    {
     "name": "stdout",
     "output_type": "stream",
     "text": [
      "[0, 1, 2, 3, 4, 5, 6, 7, 8, 9, 10, 11, 12, 13, 14, 15, 16, 17, 18, 19]\n",
      "[3, 16, 6, 10, 2, 14, 4, 17, 7, 1, 13, 0, 19, 18, 9, 15, 8, 12, 11, 5]\n"
     ]
    }
   ],
   "source": [
    "# randomly shuffle a sequence\n",
    "from numpy.random import seed\n",
    "from numpy.random import shuffle\n",
    "# seed random number generator\n",
    "seed(1)\n",
    "# prepare a sequence\n",
    "sequence = [i for i in range(20)]\n",
    "print(sequence)\n",
    "# randomly shuffle the sequence\n",
    "shuffle(sequence)\n",
    "print(sequence)"
   ]
  },
  {
   "cell_type": "code",
   "execution_count": null,
   "metadata": {
    "collapsed": true
   },
   "outputs": [],
   "source": []
  }
 ],
 "metadata": {
  "kernelspec": {
   "display_name": "Python 3",
   "language": "python",
   "name": "python3"
  },
  "language_info": {
   "codemirror_mode": {
    "name": "ipython",
    "version": 3
   },
   "file_extension": ".py",
   "mimetype": "text/x-python",
   "name": "python",
   "nbconvert_exporter": "python",
   "pygments_lexer": "ipython3",
   "version": "3.6.2"
  }
 },
 "nbformat": 4,
 "nbformat_minor": 2
}
