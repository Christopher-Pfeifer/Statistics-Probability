{
 "cells": [
  {
   "cell_type": "markdown",
   "metadata": {},
   "source": [
    "# Law of Large Numbers"
   ]
  },
  {
   "cell_type": "markdown",
   "metadata": {},
   "source": [
    "By intuition, more observations are better; if more observations are collected from the population (more data), samples of the data will be more representative of the general population.\n",
    "\n",
    "#### Statistics and Probability\n",
    "The theorem - the law of large numbers\n",
    "- supports this intuition\n",
    "- is a pillar of both of these ﬁelds and has important implications in applied machine learning.\n",
    "- suggests the average result from repeating an experiment multiple times will better approximate the true or expected underlying result.\n",
    "\n",
    "#### Applied Machine Learning\n",
    "This law is critical for understanding and implementing\n",
    "- The selection of training datasets\n",
    "- Test datasets\n",
    "- The evaluation of model skill in machine learning.\n",
    "\n",
    "Profitable casinos exist because of the law of large numbers, they always make money in the long run.\n",
    "\n",
    "#### Trials / Experiments\n",
    "All sample observations for an experiment are drawn from an idealized population of observations.\n",
    "- Observation: Result from one trial of an experiment.\n",
    "- Sample: Group of results gathered from standalone/independent repetition of trials, giving multiple observations.\n",
    "- Population: Space of all possible observations that could be seen from a trial.\n",
    "\n",
    "#### The discipline of statistics, says that:\n",
    "- As size of the sample increases, mean value of the sample will better approximate the mean or other expected value in the population.\n",
    "- As the sample size goes to inﬁnity, the sample mean will converge to the population mean.\n",
    "\n",
    "#### The discipline of probability theory, say that:\n",
    "- With the law of large numbers, the mean of a large sample is close to the mean of the distribution."
   ]
  },
  {
   "cell_type": "markdown",
   "metadata": {
    "collapsed": true
   },
   "source": [
    "### Demonstration in Python to show the decrease in error from the increase in sample size.\n",
    "\n",
    "Design an idealized underlying distribution\n",
    "- Using a Gaussian distribution with a mean of 50 and a standard deviation of 5.\n",
    "- The expected value or mean of this population is 50."
   ]
  },
  {
   "cell_type": "code",
   "execution_count": 1,
   "metadata": {
    "collapsed": true
   },
   "outputs": [],
   "source": [
    "import pandas as pd\n",
    "from numpy       import arange\n",
    "import matplotlib.pyplot as plt\n",
    "from scipy.stats import norm"
   ]
  },
  {
   "cell_type": "markdown",
   "metadata": {},
   "source": [
    "### idealized population distribution"
   ]
  },
  {
   "cell_type": "code",
   "execution_count": 2,
   "metadata": {},
   "outputs": [
    {
     "name": "stdout",
     "output_type": "stream",
     "text": [
      "x-axis\n",
      "[30 31 32 33 34 35 36 37 38 39 40 41 42 43 44 45 46 47 48 49 50 51 52 53\n",
      " 54 55 56 57 58 59 60 61 62 63 64 65 66 67 68 69]\n",
      " \n",
      "y-axis\n",
      "[2.67660452e-05 5.83893852e-05 1.22380386e-04 2.46443834e-04\n",
      " 4.76817640e-04 8.86369682e-04 1.58309032e-03 2.71659385e-03\n",
      " 4.47890606e-03 7.09491857e-03 1.07981933e-02 1.57900317e-02\n",
      " 2.21841669e-02 2.99454931e-02 3.88372110e-02 4.83941449e-02\n",
      " 5.79383106e-02 6.66449206e-02 7.36540281e-02 7.82085388e-02\n",
      " 7.97884561e-02 7.82085388e-02 7.36540281e-02 6.66449206e-02\n",
      " 5.79383106e-02 4.83941449e-02 3.88372110e-02 2.99454931e-02\n",
      " 2.21841669e-02 1.57900317e-02 1.07981933e-02 7.09491857e-03\n",
      " 4.47890606e-03 2.71659385e-03 1.58309032e-03 8.86369682e-04\n",
      " 4.76817640e-04 2.46443834e-04 1.22380386e-04 5.83893852e-05]\n"
     ]
    }
   ],
   "source": [
    "# x-axis for the plot\n",
    "xaxis = arange(30, 70, 1)\n",
    "print(\"x-axis\")\n",
    "print(xaxis)\n",
    "print(\" \")\n",
    "\n",
    "# y-axis for the plot\n",
    "# \n",
    "mean               = 50\n",
    "standard_deviation = 5\n",
    "\n",
    "yaxis = norm.pdf(xaxis, mean, standard_deviation)   # Probability density function at x\n",
    "print(\"y-axis\")\n",
    "print(yaxis)"
   ]
  },
  {
   "cell_type": "code",
   "execution_count": 3,
   "metadata": {
    "collapsed": true
   },
   "outputs": [],
   "source": [
    "sd1 = mean - standard_deviation\n",
    "sd2 = mean + standard_deviation"
   ]
  },
  {
   "cell_type": "code",
   "execution_count": 4,
   "metadata": {},
   "outputs": [
    {
     "data": {
      "image/png": "[encoded data removed]",
      "text/plain": [
       "<Figure size 432x288 with 1 Axes>"
      ]
     },
     "metadata": {},
     "output_type": "display_data"
    }
   ],
   "source": [
    "# plot ideal population\n",
    "plt.plot(xaxis, yaxis)\n",
    "\n",
    "plt.axvline(x=sd1,ymin=0.00,ymax=1,color='grey')\n",
    "plt.axvline(x=sd2,ymin=0.00,ymax=1,color='grey')\n",
    "\n",
    "plt.show()"
   ]
  },
  {
   "cell_type": "markdown",
   "metadata": {
    "collapsed": true
   },
   "source": [
    "#### created is a plot of the designed population with the familiar bell shape, also showing 1 standard deviation each direction from the mean."
   ]
  },
  {
   "cell_type": "markdown",
   "metadata": {},
   "source": [
    "## -------------------------------------------------------------------------------"
   ]
  },
  {
   "cell_type": "markdown",
   "metadata": {},
   "source": [
    "### Sampling: drawing independent random samples from the population"
   ]
  },
  {
   "cell_type": "markdown",
   "metadata": {
    "collapsed": true
   },
   "source": [
    "Forgetting everything known about the population.\n",
    "- Create samples of diﬀerent sizes and calculate the mean.\n",
    "\n",
    "Given intuition and the law of large numbers\n",
    "- It is expected that as the size of the sample is increased, the sample mean will better approximate the population mean.\n",
    "\n",
    "The example below calculates samples of diﬀerent sizes, estimates the mean and plots the errors in the mean from the expected mean (50)."
   ]
  },
  {
   "cell_type": "code",
   "execution_count": 5,
   "metadata": {
    "collapsed": true
   },
   "outputs": [],
   "source": [
    "# demonstrate the law of large numbers\n",
    "from numpy.random import seed\n",
    "from numpy.random import randn\n",
    "from numpy        import mean\n",
    "from numpy        import array"
   ]
  },
  {
   "cell_type": "code",
   "execution_count": 6,
   "metadata": {
    "collapsed": true
   },
   "outputs": [],
   "source": [
    "# seed the random number generator\n",
    "seed(1)"
   ]
  },
  {
   "cell_type": "code",
   "execution_count": 7,
   "metadata": {},
   "outputs": [
    {
     "name": "stdout",
     "output_type": "stream",
     "text": [
      "100\n",
      " \n",
      "[10, 210, 410, 610, 810, 1010, 1210, 1410, 1610, 1810, 2010, 2210, 2410, 2610, 2810, 3010, 3210, 3410, 3610, 3810, 4010, 4210, 4410, 4610, 4810, 5010, 5210, 5410, 5610, 5810, 6010, 6210, 6410, 6610, 6810, 7010, 7210, 7410, 7610, 7810, 8010, 8210, 8410, 8610, 8810, 9010, 9210, 9410, 9610, 9810, 10010, 10210, 10410, 10610, 10810, 11010, 11210, 11410, 11610, 11810, 12010, 12210, 12410, 12610, 12810, 13010, 13210, 13410, 13610, 13810, 14010, 14210, 14410, 14610, 14810, 15010, 15210, 15410, 15610, 15810, 16010, 16210, 16410, 16610, 16810, 17010, 17210, 17410, 17610, 17810, 18010, 18210, 18410, 18610, 18810, 19010, 19210, 19410, 19610, 19810]\n"
     ]
    }
   ],
   "source": [
    "# draw 100 sample sizes\n",
    "\n",
    "# sample sizes\n",
    "sizes = list()  # create empty list go hold the sizes of the samples\n",
    "\n",
    "for x in range (10, 20000, 200):  # draw sample sizes by steping thru range 200 at a time\n",
    "    sizes.append(x)\n",
    "print(len(sizes))\n",
    "print(\" \")\n",
    "print(sizes)"
   ]
  },
  {
   "cell_type": "code",
   "execution_count": 8,
   "metadata": {},
   "outputs": [
    {
     "name": "stdout",
     "output_type": "stream",
     "text": [
      "100\n",
      "[49.5142955459695, 50.465491303612566, 50.20439493481725, 50.06639075903241, 50.09226651425639, 50.02960760563608, 50.015346627662595, 50.15474522106567, 49.760289089674394, 50.11974338654227, 50.130186248291515, 49.93430858351253, 50.16422477028292, 50.002900504921556, 49.894048398712194, 50.08869903574936, 49.99034688909093, 49.85291855555464, 50.089734867149986, 50.102197883215894, 49.94613970822055, 50.03388502927149, 49.99424744893979, 49.99957686426579, 50.08085918533663, 49.89784755948786, 49.96418563482523, 49.99506362028458, 49.944469999739134, 50.21300477044841, 50.0390317967859, 50.108891767290324, 49.94620716194625, 49.93825076730593, 50.07642802086576, 50.09926213215312, 49.97659311610319, 50.09104009388309, 49.94997961467839, 50.017932975332236, 49.95830969591769, 50.04136267719299, 50.07747954771752, 50.05789224778446, 50.03571986207374, 49.969869944331755, 50.07096546972675, 49.91263315322025, 49.948705862421626, 50.035159000607926, 49.97052375632419, 49.97631251044427, 49.966787964736376, 49.97652697034244, 50.02360036081895, 50.0303313389791, 49.98361819609312, 50.10400317145112, 50.019188115016256, 49.9074071034325, 49.91857093080329, 50.001092379459905, 50.03171799406843, 49.978316203558805, 49.933642292601036, 50.046770418009245, 49.98067513936289, 49.96031858681373, 49.98564530699889, 50.02303826520849, 50.04254436124946, 50.037988337144235, 49.97226116456671, 50.04246060028879, 50.01842135911799, 50.03399647251093, 49.98520497145333, 50.07984522139795, 50.00135377764082, 49.995537782500946, 49.963881289065796, 49.92539202864722, 50.078811524914464, 50.012296250159594, 50.00473421625748, 50.03746038101235, 50.035508279091616, 50.00419927612189, 50.04262739966153, 49.99403169279192, 49.970156055844, 49.94616089942314, 49.94874047417297, 49.99790702628057, 49.929715869473505, 49.98706144021151, 49.95136148602856, 50.004023989706205, 50.035648872981085, 50.03449067150074]\n"
     ]
    }
   ],
   "source": [
    "# generate samples of different sizes and calculate their means\n",
    "means = [mean(5 * randn(size) + 50) for size in sizes]\n",
    "print(len(means))\n",
    "print(means)"
   ]
  },
  {
   "cell_type": "code",
   "execution_count": 9,
   "metadata": {},
   "outputs": [
    {
     "data": {
      "text/html": [
       "<div>\n",
       "<style scoped>\n",
       "    .dataframe tbody tr th:only-of-type {\n",
       "        vertical-align: middle;\n",
       "    }\n",
       "\n",
       "    .dataframe tbody tr th {\n",
       "        vertical-align: top;\n",
       "    }\n",
       "\n",
       "    .dataframe thead th {\n",
       "        text-align: right;\n",
       "    }\n",
       "</style>\n",
       "<table border=\"1\" class=\"dataframe\">\n",
       "  <thead>\n",
       "    <tr style=\"text-align: right;\">\n",
       "      <th></th>\n",
       "      <th>Sample Size</th>\n",
       "      <th>mean</th>\n",
       "    </tr>\n",
       "  </thead>\n",
       "  <tbody>\n",
       "    <tr>\n",
       "      <th>1</th>\n",
       "      <td>10</td>\n",
       "      <td>49.514296</td>\n",
       "    </tr>\n",
       "    <tr>\n",
       "      <th>2</th>\n",
       "      <td>210</td>\n",
       "      <td>50.465491</td>\n",
       "    </tr>\n",
       "    <tr>\n",
       "      <th>3</th>\n",
       "      <td>410</td>\n",
       "      <td>50.204395</td>\n",
       "    </tr>\n",
       "    <tr>\n",
       "      <th>4</th>\n",
       "      <td>610</td>\n",
       "      <td>50.066391</td>\n",
       "    </tr>\n",
       "    <tr>\n",
       "      <th>5</th>\n",
       "      <td>810</td>\n",
       "      <td>50.092267</td>\n",
       "    </tr>\n",
       "    <tr>\n",
       "      <th>6</th>\n",
       "      <td>1010</td>\n",
       "      <td>50.029608</td>\n",
       "    </tr>\n",
       "    <tr>\n",
       "      <th>7</th>\n",
       "      <td>1210</td>\n",
       "      <td>50.015347</td>\n",
       "    </tr>\n",
       "    <tr>\n",
       "      <th>8</th>\n",
       "      <td>1410</td>\n",
       "      <td>50.154745</td>\n",
       "    </tr>\n",
       "  </tbody>\n",
       "</table>\n",
       "</div>"
      ],
      "text/plain": [
       "   Sample Size       mean\n",
       "1           10  49.514296\n",
       "2          210  50.465491\n",
       "3          410  50.204395\n",
       "4          610  50.066391\n",
       "5          810  50.092267\n",
       "6         1010  50.029608\n",
       "7         1210  50.015347\n",
       "8         1410  50.154745"
      ]
     },
     "metadata": {},
     "output_type": "display_data"
    },
    {
     "data": {
      "text/html": [
       "<div>\n",
       "<style scoped>\n",
       "    .dataframe tbody tr th:only-of-type {\n",
       "        vertical-align: middle;\n",
       "    }\n",
       "\n",
       "    .dataframe tbody tr th {\n",
       "        vertical-align: top;\n",
       "    }\n",
       "\n",
       "    .dataframe thead th {\n",
       "        text-align: right;\n",
       "    }\n",
       "</style>\n",
       "<table border=\"1\" class=\"dataframe\">\n",
       "  <thead>\n",
       "    <tr style=\"text-align: right;\">\n",
       "      <th></th>\n",
       "      <th>Sample Size</th>\n",
       "      <th>mean</th>\n",
       "    </tr>\n",
       "  </thead>\n",
       "  <tbody>\n",
       "    <tr>\n",
       "      <th>93</th>\n",
       "      <td>18410</td>\n",
       "      <td>49.948740</td>\n",
       "    </tr>\n",
       "    <tr>\n",
       "      <th>94</th>\n",
       "      <td>18610</td>\n",
       "      <td>49.997907</td>\n",
       "    </tr>\n",
       "    <tr>\n",
       "      <th>95</th>\n",
       "      <td>18810</td>\n",
       "      <td>49.929716</td>\n",
       "    </tr>\n",
       "    <tr>\n",
       "      <th>96</th>\n",
       "      <td>19010</td>\n",
       "      <td>49.987061</td>\n",
       "    </tr>\n",
       "    <tr>\n",
       "      <th>97</th>\n",
       "      <td>19210</td>\n",
       "      <td>49.951361</td>\n",
       "    </tr>\n",
       "    <tr>\n",
       "      <th>98</th>\n",
       "      <td>19410</td>\n",
       "      <td>50.004024</td>\n",
       "    </tr>\n",
       "    <tr>\n",
       "      <th>99</th>\n",
       "      <td>19610</td>\n",
       "      <td>50.035649</td>\n",
       "    </tr>\n",
       "    <tr>\n",
       "      <th>100</th>\n",
       "      <td>19810</td>\n",
       "      <td>50.034491</td>\n",
       "    </tr>\n",
       "  </tbody>\n",
       "</table>\n",
       "</div>"
      ],
      "text/plain": [
       "     Sample Size       mean\n",
       "93         18410  49.948740\n",
       "94         18610  49.997907\n",
       "95         18810  49.929716\n",
       "96         19010  49.987061\n",
       "97         19210  49.951361\n",
       "98         19410  50.004024\n",
       "99         19610  50.035649\n",
       "100        19810  50.034491"
      ]
     },
     "metadata": {},
     "output_type": "display_data"
    }
   ],
   "source": [
    "samples_df = pd.DataFrame(sizes,columns=[\"Sample Size\"])\n",
    "samples_df.index = pd.Index(i for i in range(1,101,1))\n",
    "samples_df['mean'] = means\n",
    "display(samples_df.head(8))\n",
    "display(samples_df.tail(8))"
   ]
  },
  {
   "cell_type": "markdown",
   "metadata": {},
   "source": [
    "#### As size of the sample increases, mean value of the sample will better approximate the mean or other expected value in the population."
   ]
  },
  {
   "cell_type": "markdown",
   "metadata": {},
   "source": [
    "- Create plot comparing the size of the sample to the error of the sample mean from the population mean.\n",
    "- Generally, the larger sample sizes have less error, can expect trend to continue, on average.\n",
    "- Some sample means overestimate and some underestimate.\n",
    "- Don't fall into the trap of assuming that the underestimate will fall on one side or another."
   ]
  },
  {
   "cell_type": "code",
   "execution_count": 10,
   "metadata": {},
   "outputs": [
    {
     "data": {
      "image/png": "[encoded data removed]",
      "text/plain": [
       "<Figure size 864x360 with 1 Axes>"
      ]
     },
     "metadata": {},
     "output_type": "display_data"
    }
   ],
   "source": [
    "# plot sample mean error vs sample size\n",
    "\n",
    "plt.figure(figsize=(12,5))\n",
    "plt.title(\"sample size vs. mean error\", fontsize=18)\n",
    "plt.xlabel(\"sample size\", fontsize=18)\n",
    "plt.ylabel(\"mean error\",  fontsize=18)\n",
    "plt.scatter(sizes, array(means)-50)  # calculates mean error\n",
    "plt.axhline(y=0,xmin=0.00,xmax=20000,color='grey')\n",
    "plt.show()"
   ]
  },
  {
   "cell_type": "markdown",
   "metadata": {
    "collapsed": true
   },
   "source": [
    "## ----------------------------------------------------------------------------------------"
   ]
  },
  {
   "cell_type": "markdown",
   "metadata": {},
   "source": [
    "## Example of: Law of Large Numbers (real world dataset sampling)"
   ]
  },
  {
   "cell_type": "code",
   "execution_count": 11,
   "metadata": {},
   "outputs": [
    {
     "data": {
      "text/plain": [
       "(5000, 7)"
      ]
     },
     "metadata": {},
     "output_type": "display_data"
    },
    {
     "data": {
      "text/html": [
       "<div>\n",
       "<style scoped>\n",
       "    .dataframe tbody tr th:only-of-type {\n",
       "        vertical-align: middle;\n",
       "    }\n",
       "\n",
       "    .dataframe tbody tr th {\n",
       "        vertical-align: top;\n",
       "    }\n",
       "\n",
       "    .dataframe thead th {\n",
       "        text-align: right;\n",
       "    }\n",
       "</style>\n",
       "<table border=\"1\" class=\"dataframe\">\n",
       "  <thead>\n",
       "    <tr style=\"text-align: right;\">\n",
       "      <th></th>\n",
       "      <th>Age</th>\n",
       "      <th>FullName</th>\n",
       "      <th>Gender</th>\n",
       "      <th>Height</th>\n",
       "      <th>Race</th>\n",
       "      <th>State</th>\n",
       "      <th>Weight</th>\n",
       "    </tr>\n",
       "  </thead>\n",
       "  <tbody>\n",
       "    <tr>\n",
       "      <th>1</th>\n",
       "      <td>18</td>\n",
       "      <td>Payton C. Cole</td>\n",
       "      <td>M</td>\n",
       "      <td>64.45</td>\n",
       "      <td>W</td>\n",
       "      <td>GA</td>\n",
       "      <td>201</td>\n",
       "    </tr>\n",
       "    <tr>\n",
       "      <th>2</th>\n",
       "      <td>66</td>\n",
       "      <td>Andres J. Brown</td>\n",
       "      <td>M</td>\n",
       "      <td>68.00</td>\n",
       "      <td>W</td>\n",
       "      <td>NY</td>\n",
       "      <td>161</td>\n",
       "    </tr>\n",
       "    <tr>\n",
       "      <th>3</th>\n",
       "      <td>41</td>\n",
       "      <td>Wayne C. Robinson</td>\n",
       "      <td>M</td>\n",
       "      <td>73.41</td>\n",
       "      <td>W</td>\n",
       "      <td>CA</td>\n",
       "      <td>177</td>\n",
       "    </tr>\n",
       "    <tr>\n",
       "      <th>4</th>\n",
       "      <td>41</td>\n",
       "      <td>Jamie N. Johnson</td>\n",
       "      <td>F</td>\n",
       "      <td>58.89</td>\n",
       "      <td>W</td>\n",
       "      <td>NY</td>\n",
       "      <td>181</td>\n",
       "    </tr>\n",
       "    <tr>\n",
       "      <th>5</th>\n",
       "      <td>66</td>\n",
       "      <td>Jordan H. Fields</td>\n",
       "      <td>F</td>\n",
       "      <td>65.11</td>\n",
       "      <td>B</td>\n",
       "      <td>RI</td>\n",
       "      <td>144</td>\n",
       "    </tr>\n",
       "    <tr>\n",
       "      <th>6</th>\n",
       "      <td>69</td>\n",
       "      <td>Nathan J. Rogers</td>\n",
       "      <td>M</td>\n",
       "      <td>69.16</td>\n",
       "      <td>W</td>\n",
       "      <td>DE</td>\n",
       "      <td>152</td>\n",
       "    </tr>\n",
       "    <tr>\n",
       "      <th>7</th>\n",
       "      <td>18</td>\n",
       "      <td>Kathryn M. Nichols</td>\n",
       "      <td>F</td>\n",
       "      <td>60.49</td>\n",
       "      <td>W</td>\n",
       "      <td>PA</td>\n",
       "      <td>165</td>\n",
       "    </tr>\n",
       "    <tr>\n",
       "      <th>8</th>\n",
       "      <td>62</td>\n",
       "      <td>Kevin F. Jones</td>\n",
       "      <td>M</td>\n",
       "      <td>71.43</td>\n",
       "      <td>W</td>\n",
       "      <td>MS</td>\n",
       "      <td>211</td>\n",
       "    </tr>\n",
       "    <tr>\n",
       "      <th>9</th>\n",
       "      <td>71</td>\n",
       "      <td>Alexia L. Hill</td>\n",
       "      <td>F</td>\n",
       "      <td>63.45</td>\n",
       "      <td>W</td>\n",
       "      <td>WI</td>\n",
       "      <td>112</td>\n",
       "    </tr>\n",
       "    <tr>\n",
       "      <th>10</th>\n",
       "      <td>57</td>\n",
       "      <td>Fay N. Harris</td>\n",
       "      <td>F</td>\n",
       "      <td>67.65</td>\n",
       "      <td>W</td>\n",
       "      <td>NY</td>\n",
       "      <td>127</td>\n",
       "    </tr>\n",
       "  </tbody>\n",
       "</table>\n",
       "</div>"
      ],
      "text/plain": [
       "    Age            FullName Gender  Height Race State  Weight\n",
       "1    18      Payton C. Cole      M   64.45    W    GA     201\n",
       "2    66     Andres J. Brown      M   68.00    W    NY     161\n",
       "3    41   Wayne C. Robinson      M   73.41    W    CA     177\n",
       "4    41    Jamie N. Johnson      F   58.89    W    NY     181\n",
       "5    66    Jordan H. Fields      F   65.11    B    RI     144\n",
       "6    69    Nathan J. Rogers      M   69.16    W    DE     152\n",
       "7    18  Kathryn M. Nichols      F   60.49    W    PA     165\n",
       "8    62      Kevin F. Jones      M   71.43    W    MS     211\n",
       "9    71      Alexia L. Hill      F   63.45    W    WI     112\n",
       "10   57       Fay N. Harris      F   67.65    W    NY     127"
      ]
     },
     "metadata": {},
     "output_type": "display_data"
    },
    {
     "data": {
      "text/html": [
       "<div>\n",
       "<style scoped>\n",
       "    .dataframe tbody tr th:only-of-type {\n",
       "        vertical-align: middle;\n",
       "    }\n",
       "\n",
       "    .dataframe tbody tr th {\n",
       "        vertical-align: top;\n",
       "    }\n",
       "\n",
       "    .dataframe thead th {\n",
       "        text-align: right;\n",
       "    }\n",
       "</style>\n",
       "<table border=\"1\" class=\"dataframe\">\n",
       "  <thead>\n",
       "    <tr style=\"text-align: right;\">\n",
       "      <th></th>\n",
       "      <th>Age</th>\n",
       "      <th>FullName</th>\n",
       "      <th>Gender</th>\n",
       "      <th>Height</th>\n",
       "      <th>Race</th>\n",
       "      <th>State</th>\n",
       "      <th>Weight</th>\n",
       "    </tr>\n",
       "  </thead>\n",
       "  <tbody>\n",
       "    <tr>\n",
       "      <th>4991</th>\n",
       "      <td>62</td>\n",
       "      <td>Michele I. Wood</td>\n",
       "      <td>F</td>\n",
       "      <td>60.93</td>\n",
       "      <td>W</td>\n",
       "      <td>OH</td>\n",
       "      <td>142</td>\n",
       "    </tr>\n",
       "    <tr>\n",
       "      <th>4992</th>\n",
       "      <td>31</td>\n",
       "      <td>Elmer D. Cook</td>\n",
       "      <td>M</td>\n",
       "      <td>73.98</td>\n",
       "      <td>W</td>\n",
       "      <td>TX</td>\n",
       "      <td>180</td>\n",
       "    </tr>\n",
       "    <tr>\n",
       "      <th>4993</th>\n",
       "      <td>34</td>\n",
       "      <td>Janice J. Carter</td>\n",
       "      <td>F</td>\n",
       "      <td>67.35</td>\n",
       "      <td>W</td>\n",
       "      <td>DE</td>\n",
       "      <td>175</td>\n",
       "    </tr>\n",
       "    <tr>\n",
       "      <th>4994</th>\n",
       "      <td>47</td>\n",
       "      <td>Jeanne N. Johnson</td>\n",
       "      <td>F</td>\n",
       "      <td>60.94</td>\n",
       "      <td>W</td>\n",
       "      <td>CO</td>\n",
       "      <td>146</td>\n",
       "    </tr>\n",
       "    <tr>\n",
       "      <th>4995</th>\n",
       "      <td>34</td>\n",
       "      <td>Vicki R. Jordan</td>\n",
       "      <td>F</td>\n",
       "      <td>66.00</td>\n",
       "      <td>W</td>\n",
       "      <td>TX</td>\n",
       "      <td>192</td>\n",
       "    </tr>\n",
       "    <tr>\n",
       "      <th>4996</th>\n",
       "      <td>65</td>\n",
       "      <td>Sharise H. Franklin</td>\n",
       "      <td>F</td>\n",
       "      <td>60.47</td>\n",
       "      <td>B</td>\n",
       "      <td>NC</td>\n",
       "      <td>155</td>\n",
       "    </tr>\n",
       "    <tr>\n",
       "      <th>4997</th>\n",
       "      <td>31</td>\n",
       "      <td>Chante C. Gray</td>\n",
       "      <td>M</td>\n",
       "      <td>78.59</td>\n",
       "      <td>B</td>\n",
       "      <td>RI</td>\n",
       "      <td>166</td>\n",
       "    </tr>\n",
       "    <tr>\n",
       "      <th>4998</th>\n",
       "      <td>72</td>\n",
       "      <td>Nancy A. Stewart</td>\n",
       "      <td>F</td>\n",
       "      <td>60.11</td>\n",
       "      <td>W</td>\n",
       "      <td>FL</td>\n",
       "      <td>131</td>\n",
       "    </tr>\n",
       "    <tr>\n",
       "      <th>4999</th>\n",
       "      <td>20</td>\n",
       "      <td>Sarah E. Phillips</td>\n",
       "      <td>F</td>\n",
       "      <td>60.31</td>\n",
       "      <td>W</td>\n",
       "      <td>NE</td>\n",
       "      <td>192</td>\n",
       "    </tr>\n",
       "    <tr>\n",
       "      <th>5000</th>\n",
       "      <td>63</td>\n",
       "      <td>Willie F. Henry</td>\n",
       "      <td>M</td>\n",
       "      <td>67.99</td>\n",
       "      <td>B</td>\n",
       "      <td>PA</td>\n",
       "      <td>159</td>\n",
       "    </tr>\n",
       "  </tbody>\n",
       "</table>\n",
       "</div>"
      ],
      "text/plain": [
       "      Age             FullName Gender  Height Race State  Weight\n",
       "4991   62      Michele I. Wood      F   60.93    W    OH     142\n",
       "4992   31        Elmer D. Cook      M   73.98    W    TX     180\n",
       "4993   34     Janice J. Carter      F   67.35    W    DE     175\n",
       "4994   47    Jeanne N. Johnson      F   60.94    W    CO     146\n",
       "4995   34      Vicki R. Jordan      F   66.00    W    TX     192\n",
       "4996   65  Sharise H. Franklin      F   60.47    B    NC     155\n",
       "4997   31       Chante C. Gray      M   78.59    B    RI     166\n",
       "4998   72     Nancy A. Stewart      F   60.11    W    FL     131\n",
       "4999   20    Sarah E. Phillips      F   60.31    W    NE     192\n",
       "5000   63      Willie F. Henry      M   67.99    B    PA     159"
      ]
     },
     "metadata": {},
     "output_type": "display_data"
    }
   ],
   "source": [
    "population = pd.read_csv(\"population.csv\",\n",
    "                         usecols=['FullName','Race','Gender','Age','Height','Weight','State'] )\n",
    "\n",
    "population.index = pd.Index(i for i in range(1,5001,1))\n",
    "display(population.shape)\n",
    "display(population.head(10))\n",
    "display(population.tail(10))\n",
    "\n",
    "# eof variable is used in selection processes as the 'stop' point in a range.\n",
    "# Must be number of rows + 1 because the eof is not included in the range.\n",
    "# This ensures the last row is included in the range.\n",
    "\n",
    "eof = population.shape[0] + 1"
   ]
  },
  {
   "cell_type": "markdown",
   "metadata": {},
   "source": [
    "#### Population: Space of all possible observations that could be seen from a trial."
   ]
  },
  {
   "cell_type": "code",
   "execution_count": 12,
   "metadata": {},
   "outputs": [
    {
     "name": "stdout",
     "output_type": "stream",
     "text": [
      "66.52589400000002\n"
     ]
    }
   ],
   "source": [
    "pop_height_mean = population.Height.mean()\n",
    "print(pop_height_mean)"
   ]
  },
  {
   "cell_type": "code",
   "execution_count": 13,
   "metadata": {},
   "outputs": [
    {
     "data": {
      "image/png": "[encoded data removed]",
      "text/plain": [
       "<Figure size 864x360 with 1 Axes>"
      ]
     },
     "metadata": {},
     "output_type": "display_data"
    }
   ],
   "source": [
    "plt.figure(figsize=(12,5))\n",
    "population.Height.plot()\n",
    "plt.title(\"Height feature in the population dataset\", fontsize=18)\n",
    "plt.xlabel(\"Objects\", fontsize=18)\n",
    "plt.ylabel(\"Height\",  fontsize=18)\n",
    "plt.axhline(y=pop_height_mean,xmin=0.00,xmax=20000,color='grey')\n",
    "plt.show()"
   ]
  },
  {
   "cell_type": "markdown",
   "metadata": {},
   "source": [
    "### Distribution of the (Height) feature in the population dataset is a gaussian-like normal distribution"
   ]
  },
  {
   "cell_type": "code",
   "execution_count": 14,
   "metadata": {},
   "outputs": [
    {
     "data": {
      "image/png": "[encoded data removed]",
      "text/plain": [
       "<Figure size 432x288 with 1 Axes>"
      ]
     },
     "metadata": {},
     "output_type": "display_data"
    }
   ],
   "source": [
    "plt.hist(population['Height'],bins=100)\n",
    "plt.axvline(x=pop_height_mean,ymin=0.00,ymax=120,color='grey')\n",
    "plt.show()"
   ]
  },
  {
   "cell_type": "code",
   "execution_count": 15,
   "metadata": {},
   "outputs": [
    {
     "name": "stdout",
     "output_type": "stream",
     "text": [
      "Sample sizes of the 499 trials to be drawn from the population. \n",
      "\n",
      "[10, 20, 30, 40, 50, 60, 70, 80, 90, 100, 110, 120, 130, 140, 150, 160, 170, 180, 190, 200, 210, 220, 230, 240, 250, 260, 270, 280, 290, 300, 310, 320, 330, 340, 350, 360, 370, 380, 390, 400, 410, 420, 430, 440, 450, 460, 470, 480, 490, 500, 510, 520, 530, 540, 550, 560, 570, 580, 590, 600, 610, 620, 630, 640, 650, 660, 670, 680, 690, 700, 710, 720, 730, 740, 750, 760, 770, 780, 790, 800, 810, 820, 830, 840, 850, 860, 870, 880, 890, 900, 910, 920, 930, 940, 950, 960, 970, 980, 990, 1000, 1010, 1020, 1030, 1040, 1050, 1060, 1070, 1080, 1090, 1100, 1110, 1120, 1130, 1140, 1150, 1160, 1170, 1180, 1190, 1200, 1210, 1220, 1230, 1240, 1250, 1260, 1270, 1280, 1290, 1300, 1310, 1320, 1330, 1340, 1350, 1360, 1370, 1380, 1390, 1400, 1410, 1420, 1430, 1440, 1450, 1460, 1470, 1480, 1490, 1500, 1510, 1520, 1530, 1540, 1550, 1560, 1570, 1580, 1590, 1600, 1610, 1620, 1630, 1640, 1650, 1660, 1670, 1680, 1690, 1700, 1710, 1720, 1730, 1740, 1750, 1760, 1770, 1780, 1790, 1800, 1810, 1820, 1830, 1840, 1850, 1860, 1870, 1880, 1890, 1900, 1910, 1920, 1930, 1940, 1950, 1960, 1970, 1980, 1990, 2000, 2010, 2020, 2030, 2040, 2050, 2060, 2070, 2080, 2090, 2100, 2110, 2120, 2130, 2140, 2150, 2160, 2170, 2180, 2190, 2200, 2210, 2220, 2230, 2240, 2250, 2260, 2270, 2280, 2290, 2300, 2310, 2320, 2330, 2340, 2350, 2360, 2370, 2380, 2390, 2400, 2410, 2420, 2430, 2440, 2450, 2460, 2470, 2480, 2490, 2500, 2510, 2520, 2530, 2540, 2550, 2560, 2570, 2580, 2590, 2600, 2610, 2620, 2630, 2640, 2650, 2660, 2670, 2680, 2690, 2700, 2710, 2720, 2730, 2740, 2750, 2760, 2770, 2780, 2790, 2800, 2810, 2820, 2830, 2840, 2850, 2860, 2870, 2880, 2890, 2900, 2910, 2920, 2930, 2940, 2950, 2960, 2970, 2980, 2990, 3000, 3010, 3020, 3030, 3040, 3050, 3060, 3070, 3080, 3090, 3100, 3110, 3120, 3130, 3140, 3150, 3160, 3170, 3180, 3190, 3200, 3210, 3220, 3230, 3240, 3250, 3260, 3270, 3280, 3290, 3300, 3310, 3320, 3330, 3340, 3350, 3360, 3370, 3380, 3390, 3400, 3410, 3420, 3430, 3440, 3450, 3460, 3470, 3480, 3490, 3500, 3510, 3520, 3530, 3540, 3550, 3560, 3570, 3580, 3590, 3600, 3610, 3620, 3630, 3640, 3650, 3660, 3670, 3680, 3690, 3700, 3710, 3720, 3730, 3740, 3750, 3760, 3770, 3780, 3790, 3800, 3810, 3820, 3830, 3840, 3850, 3860, 3870, 3880, 3890, 3900, 3910, 3920, 3930, 3940, 3950, 3960, 3970, 3980, 3990, 4000, 4010, 4020, 4030, 4040, 4050, 4060, 4070, 4080, 4090, 4100, 4110, 4120, 4130, 4140, 4150, 4160, 4170, 4180, 4190, 4200, 4210, 4220, 4230, 4240, 4250, 4260, 4270, 4280, 4290, 4300, 4310, 4320, 4330, 4340, 4350, 4360, 4370, 4380, 4390, 4400, 4410, 4420, 4430, 4440, 4450, 4460, 4470, 4480, 4490, 4500, 4510, 4520, 4530, 4540, 4550, 4560, 4570, 4580, 4590, 4600, 4610, 4620, 4630, 4640, 4650, 4660, 4670, 4680, 4690, 4700, 4710, 4720, 4730, 4740, 4750, 4760, 4770, 4780, 4790, 4800, 4810, 4820, 4830, 4840, 4850, 4860, 4870, 4880, 4890, 4900, 4910, 4920, 4930, 4940, 4950, 4960, 4970, 4980, 4990]\n"
     ]
    }
   ],
   "source": [
    "# perform (499 trials) with progressively larger sample sizes\n",
    "\n",
    "# sample sizes\n",
    "sizes = list()  # create empty list go hold the sizes of the 499 trials\n",
    "\n",
    "for x in range (10, len(population), 10):  # draw sample sizes by steping thru population object count 10 at a time\n",
    "    sizes.append(x)\n",
    "\n",
    "print(\"Sample sizes of the \" + str(len(sizes))+\" trials to be drawn from the population. \\n\")\n",
    "print(sizes)"
   ]
  },
  {
   "cell_type": "markdown",
   "metadata": {},
   "source": [
    "### Perform the 499 trials - accumulating mean height for each trial."
   ]
  },
  {
   "cell_type": "code",
   "execution_count": 16,
   "metadata": {},
   "outputs": [
    {
     "name": "stdout",
     "output_type": "stream",
     "text": [
      "Mean of Height, for each of the 499 trials: \n",
      "\n",
      "[66.232, 64.9255, 68.158, 65.33500000000001, 66.92060000000001, 67.59933333333333, 65.9027142857143, 66.95125000000003, 66.17111111111112, 66.263, 65.9048181818182, 66.52091666666668, 66.99130769230767, 66.756, 65.70173333333332, 66.336875, 67.16594117647061, 66.66933333333334, 65.97521052631579, 66.55685, 66.98971428571426, 66.68654545454542, 66.704, 66.63395833333331, 66.09499999999997, 66.28492307692308, 66.32844444444449, 67.07292857142856, 66.98079310344824, 66.52373333333328, 66.3928387096774, 66.21021875, 66.59236363636369, 66.58161764705886, 66.63905714285707, 66.52011111111112, 66.2325945945946, 66.50652631578949, 66.30089743589745, 66.56435000000005, 66.59195121951224, 66.58869047619044, 66.72751162790696, 66.49604545454547, 66.53784444444439, 66.41636956521737, 66.4524468085106, 66.542625, 66.84224489795916, 66.62567999999996, 66.53690196078426, 66.48009615384608, 66.60639622641504, 66.18433333333329, 66.26236363636359, 66.17305357142851, 66.520947368421, 66.7980172413794, 66.25003389830509, 66.51448333333326, 66.30662295081972, 66.4383548387097, 66.4235873015873, 66.73474999999992, 66.15406153846148, 66.53827272727278, 66.61229850746274, 66.76510294117648, 66.4388985507247, 66.47034285714284, 66.72063380281682, 66.24245833333332, 66.84036986301366, 66.56198648648642, 66.55174666666666, 66.61499999999991, 66.48255844155838, 66.61292307692312, 66.65983544303802, 66.56664999999998, 66.56383950617283, 66.51636585365851, 66.61755421686748, 66.7437499999999, 66.71581176470582, 66.71274418604645, 66.52372413793101, 66.69338636363632, 66.65015730337073, 66.33414444444442, 66.30021978021975, 66.64249999999994, 66.47323655913974, 66.54301063829779, 66.76668421052634, 66.77788541666665, 66.29280412371139, 66.50273469387753, 66.32447474747474, 66.52977000000004, 66.26743564356431, 66.6759901960784, 66.54969902912622, 66.50985576923075, 66.521580952381, 66.55109433962262, 66.41970093457942, 66.51472222222232, 66.67835779816517, 66.6179181818182, 66.64746846846853, 66.32340178571432, 66.64968141592921, 66.3381578947369, 66.42488695652179, 66.69968965517246, 66.48264102564096, 66.5337457627118, 66.4381932773109, 66.48233333333322, 66.84878512396693, 66.59417213114762, 66.66438211382113, 66.46126612903213, 66.61802400000005, 66.6359444444443, 66.47260629921266, 66.56457812500007, 66.4721162790698, 66.4207384615384, 66.48014503816796, 66.6639090909091, 66.35223308270673, 66.40314925373139, 66.60485185185185, 66.71735294117664, 66.48934306569345, 66.62552898550717, 66.7429352517986, 66.52792142857135, 66.43931914893618, 66.54759859154925, 66.54375524475519, 66.44312499999984, 66.44492413793097, 66.64153424657532, 66.5738911564625, 66.51080405405412, 66.49365100671143, 66.67077333333336, 66.52709271523179, 66.68487499999993, 66.60286274509818, 66.5936688311688, 66.64067741935484, 66.551282051282, 66.46689171974533, 66.54879113924054, 66.59255974842769, 66.47583750000008, 66.4273788819877, 66.62135802469135, 66.68544785276076, 66.571987804878, 66.6880909090908, 66.63203012048194, 66.4195389221557, 66.39277380952387, 66.579402366864, 66.68725294117645, 66.42996491228075, 66.41240697674418, 66.46018497109834, 66.44447701149426, 66.64887999999998, 66.57702840909104, 66.74259887005647, 66.54544943820223, 66.6165195530726, 66.5154, 66.67348618784531, 66.47289560439567, 66.52866120218582, 66.51279891304351, 66.49480000000005, 66.37369354838705, 66.46881283422464, 66.46092553191487, 66.39160317460315, 66.61585789473676, 66.35320942408364, 66.44176562499999, 66.64018652849732, 66.56420618556717, 66.5556974358974, 66.41195408163264, 66.4793147208122, 66.48788888888892, 66.34441206030156, 66.52780000000008, 66.63168656716408, 66.32880693069312, 66.42765517241386, 66.42824019607843, 66.53443902439017, 66.57200485436883, 66.6019033816424, 66.58167307692307, 66.48196172248801, 66.73440952380962, 66.5837535545023, 66.42514150943414, 66.58990610328642, 66.5311214953272, 66.51767441860454, 66.50667592592588, 66.56693548387106, 66.52295412844035, 66.6925114155251, 66.47988181818188, 66.64338461538458, 66.41981081081087, 66.52184304932742, 66.66644196428565, 66.7064533333334, 66.74072566371676, 66.41399118942724, 66.62817982456116, 66.59930131004364, 66.589552173913, 66.58806060606057, 66.65606896551711, 66.53336051502143, 66.59803846153838, 66.51454468085116, 66.60852966101676, 66.55696202531645, 66.42215126050424, 66.62845188284511, 66.27707500000002, 66.57682157676356, 66.5709999999999, 66.5479423868314, 66.40073770491806, 66.43642448979594, 66.4149715447155, 66.39522672064771, 66.44757258064502, 66.60424096385547, 66.66172800000007, 66.64694820717125, 66.49280158730137, 66.60150197628467, 66.38562598425196, 66.51535686274512, 66.48098828124998, 66.49004669260711, 66.57941860465112, 66.61220077220068, 66.43335769230752, 66.47264750957852, 66.52990076335882, 66.52332319391608, 66.45164393939393, 66.41547924528301, 66.50242857142871, 66.41182022471905, 66.73818283582087, 66.59217472118954, 66.5467222222222, 66.41885977859779, 66.54002205882335, 66.41967765567752, 66.55901824817504, 66.47618545454552, 66.48003623188399, 66.6429927797835, 66.41674100719426, 66.57024014336916, 66.6717249999999, 66.6409750889679, 66.45497163120558, 66.5516572438162, 66.55992253521131, 66.6067298245613, 66.71853846153853, 66.56285017421592, 66.51026041666661, 66.55503460207609, 66.53316206896548, 66.49980756013744, 66.5045308219177, 66.53789419795214, 66.52147278911563, 66.4726508474577, 66.63259459459452, 66.43264309764322, 66.6524966442954, 66.4809264214046, 66.61224666666665, 66.54761794019927, 66.49962251655627, 66.66630363036293, 66.47521052631579, 66.51197377049175, 66.61717320261438, 66.50782736156346, 66.5188376623376, 66.38913268608407, 66.53516451612893, 66.5149581993568, 66.5116923076923, 66.43349840255587, 66.54103821656054, 66.61779047619058, 66.40959493670876, 66.58192429022084, 66.38658805031454, 66.5087335423197, 66.47029687499999, 66.54543925233665, 66.56408385093181, 66.62438390092886, 66.65121913580259, 66.54143076923074, 66.52264417177905, 66.39155963302761, 66.51547865853658, 66.55458662613977, 66.60801818181835, 66.48796072507561, 66.55003012048165, 66.4824354354356, 66.56296107784422, 66.53617313432844, 66.47448809523809, 66.48144807121659, 66.60028402366864, 66.37794690265476, 66.48851764705839, 66.64074486803504, 66.59011695906443, 66.47311078717202, 66.54640988372081, 66.44203188405804, 66.55615895953753, 66.55263112391921, 66.53362931034482, 66.44206303724924, 66.66850857142843, 66.57585185185182, 66.57080965909081, 66.50937393767713, 66.40536158192086, 66.58141690140842, 66.59598876404507, 66.39524369747919, 66.45236592178767, 66.52334261838428, 66.6747222222224, 66.46968975069277, 66.55348066298339, 66.4931239669421, 66.41861538461518, 66.65613150684928, 66.43678142076503, 66.50017438692078, 66.48311684782611, 66.48125474254752, 66.49504594594589, 66.58073854447451, 66.43640322580644, 66.55084450402148, 66.47809893048117, 66.53125866666667, 66.60009308510647, 66.64784880636591, 66.53095502645499, 66.57864907651721, 66.45045526315776, 66.45389238845138, 66.47634816753943, 66.61972323759784, 66.42208854166671, 66.51801298701272, 66.56245854922287, 66.50557881136962, 66.53104123711344, 66.48091002570689, 66.68414102564097, 66.46639897698205, 66.54113265306135, 66.60485241730277, 66.52178426395938, 66.4993088607595, 66.53158080808079, 66.55336523929468, 66.46872864321595, 66.4839799498746, 66.4237600000001, 66.49732418952622, 66.45311940298504, 66.47316873449137, 66.57833415841566, 66.57654074074077, 66.45900738916268, 66.51020393120412, 66.50297303921573, 66.54053789731051, 66.6177756097561, 66.58319951338181, 66.4675436893204, 66.57141162227596, 66.48891545893743, 66.41457108433735, 66.54549038461525, 66.60743884892062, 66.56344019138736, 66.4238735083531, 66.57820238095232, 66.51108551068872, 66.54360900473948, 66.57289598108744, 66.51765801886799, 66.61833176470581, 66.57169953051637, 66.36564168618278, 66.54941588785077, 66.49804195804177, 66.56469302325559, 66.54197679814386, 66.54835185185182, 66.53314318706704, 66.40585253456213, 66.54525517241358, 66.50507110091745, 66.46574599542313, 66.62376940639271, 66.52553302961302, 66.51163181818191, 66.56849433106584, 66.43942533936645, 66.48891422121883, 66.56986936936919, 66.45851910112373, 66.59150448430505, 66.55971140939604, 66.56497321428566, 66.58759242761688, 66.55804444444438, 66.47974057649667, 66.52622345132751, 66.47915231788069, 66.61005506607938, 66.5053120879122, 66.49424780701747, 66.59191247264751, 66.6014323144104, 66.46857080610036, 66.4702956521738, 66.44748806941443, 66.47942640692641, 66.57603887688964, 66.65073706896537, 66.53053548387106, 66.48292060085826, 66.50391220556727, 66.38569871794867, 66.52180383795316, 66.61595531914885, 66.56783651804676, 66.62215466101675, 66.54822198731506, 66.52484599156146, 66.53426736842113, 66.51827310924347, 66.57459958071266, 66.46307531380738, 66.40268475991651, 66.35573749999996, 66.55230145530139, 66.57805394190855, 66.5650848861284, 66.53776652892557, 66.4745505154638, 66.49667901234584, 66.48646817248479, 66.50185245901642, 66.42389979550103, 66.59902857142858, 66.64174949083502, 66.48928252032519, 66.53142799188642, 66.59000809716584, 66.57704646464657, 66.42344153225798, 66.50600201207241, 66.45927911646591, 66.53147895791592]\n"
     ]
    }
   ],
   "source": [
    "from random import randrange\n",
    "\n",
    "list_of_means = [ ]\n",
    "\n",
    "for trial_sample_size in sizes:  # iterate the 499 trials\n",
    "        \n",
    "    # random process to select a list of objects from the population for the given sample size of that trial\n",
    "    # uses the row index number to select the random objects from the available population.\n",
    "    record_tags = []\n",
    "    for index in range (0,trial_sample_size):\n",
    "        record_tags.append(randrange(1,eof))\n",
    "    \n",
    "    # pull the objects into the trial for the randomly generated list of population objects.\n",
    "    sample = population.loc[record_tags]\n",
    "   \n",
    "    # calculate the mean of the Height feature for all objects in the sample.\n",
    "    # append the samples calculate mean to the list_of_means\n",
    "    list_of_means.append(sample.Height.mean())\n",
    "    \n",
    "print(\"Mean of Height, for each of the 499 trials: \\n\")\n",
    "print(list_of_means)"
   ]
  },
  {
   "cell_type": "markdown",
   "metadata": {},
   "source": [
    "#### Observation: Result from one trial of an experiment.\n",
    "- Each entry in the above means list is one(1) observation in the experiment."
   ]
  },
  {
   "cell_type": "code",
   "execution_count": 17,
   "metadata": {},
   "outputs": [
    {
     "data": {
      "text/html": [
       "<div>\n",
       "<style scoped>\n",
       "    .dataframe tbody tr th:only-of-type {\n",
       "        vertical-align: middle;\n",
       "    }\n",
       "\n",
       "    .dataframe tbody tr th {\n",
       "        vertical-align: top;\n",
       "    }\n",
       "\n",
       "    .dataframe thead th {\n",
       "        text-align: right;\n",
       "    }\n",
       "</style>\n",
       "<table border=\"1\" class=\"dataframe\">\n",
       "  <thead>\n",
       "    <tr style=\"text-align: right;\">\n",
       "      <th></th>\n",
       "      <th>Trial Sample Size</th>\n",
       "      <th>Height mean observation</th>\n",
       "    </tr>\n",
       "  </thead>\n",
       "  <tbody>\n",
       "    <tr>\n",
       "      <th>1</th>\n",
       "      <td>10</td>\n",
       "      <td>66.232000</td>\n",
       "    </tr>\n",
       "    <tr>\n",
       "      <th>2</th>\n",
       "      <td>20</td>\n",
       "      <td>64.925500</td>\n",
       "    </tr>\n",
       "    <tr>\n",
       "      <th>3</th>\n",
       "      <td>30</td>\n",
       "      <td>68.158000</td>\n",
       "    </tr>\n",
       "    <tr>\n",
       "      <th>4</th>\n",
       "      <td>40</td>\n",
       "      <td>65.335000</td>\n",
       "    </tr>\n",
       "    <tr>\n",
       "      <th>5</th>\n",
       "      <td>50</td>\n",
       "      <td>66.920600</td>\n",
       "    </tr>\n",
       "    <tr>\n",
       "      <th>6</th>\n",
       "      <td>60</td>\n",
       "      <td>67.599333</td>\n",
       "    </tr>\n",
       "    <tr>\n",
       "      <th>7</th>\n",
       "      <td>70</td>\n",
       "      <td>65.902714</td>\n",
       "    </tr>\n",
       "    <tr>\n",
       "      <th>8</th>\n",
       "      <td>80</td>\n",
       "      <td>66.951250</td>\n",
       "    </tr>\n",
       "  </tbody>\n",
       "</table>\n",
       "</div>"
      ],
      "text/plain": [
       "   Trial Sample Size  Height mean observation\n",
       "1                 10                66.232000\n",
       "2                 20                64.925500\n",
       "3                 30                68.158000\n",
       "4                 40                65.335000\n",
       "5                 50                66.920600\n",
       "6                 60                67.599333\n",
       "7                 70                65.902714\n",
       "8                 80                66.951250"
      ]
     },
     "metadata": {},
     "output_type": "display_data"
    },
    {
     "data": {
      "text/html": [
       "<div>\n",
       "<style scoped>\n",
       "    .dataframe tbody tr th:only-of-type {\n",
       "        vertical-align: middle;\n",
       "    }\n",
       "\n",
       "    .dataframe tbody tr th {\n",
       "        vertical-align: top;\n",
       "    }\n",
       "\n",
       "    .dataframe thead th {\n",
       "        text-align: right;\n",
       "    }\n",
       "</style>\n",
       "<table border=\"1\" class=\"dataframe\">\n",
       "  <thead>\n",
       "    <tr style=\"text-align: right;\">\n",
       "      <th></th>\n",
       "      <th>Trial Sample Size</th>\n",
       "      <th>Height mean observation</th>\n",
       "    </tr>\n",
       "  </thead>\n",
       "  <tbody>\n",
       "    <tr>\n",
       "      <th>492</th>\n",
       "      <td>4920</td>\n",
       "      <td>66.489283</td>\n",
       "    </tr>\n",
       "    <tr>\n",
       "      <th>493</th>\n",
       "      <td>4930</td>\n",
       "      <td>66.531428</td>\n",
       "    </tr>\n",
       "    <tr>\n",
       "      <th>494</th>\n",
       "      <td>4940</td>\n",
       "      <td>66.590008</td>\n",
       "    </tr>\n",
       "    <tr>\n",
       "      <th>495</th>\n",
       "      <td>4950</td>\n",
       "      <td>66.577046</td>\n",
       "    </tr>\n",
       "    <tr>\n",
       "      <th>496</th>\n",
       "      <td>4960</td>\n",
       "      <td>66.423442</td>\n",
       "    </tr>\n",
       "    <tr>\n",
       "      <th>497</th>\n",
       "      <td>4970</td>\n",
       "      <td>66.506002</td>\n",
       "    </tr>\n",
       "    <tr>\n",
       "      <th>498</th>\n",
       "      <td>4980</td>\n",
       "      <td>66.459279</td>\n",
       "    </tr>\n",
       "    <tr>\n",
       "      <th>499</th>\n",
       "      <td>4990</td>\n",
       "      <td>66.531479</td>\n",
       "    </tr>\n",
       "  </tbody>\n",
       "</table>\n",
       "</div>"
      ],
      "text/plain": [
       "     Trial Sample Size  Height mean observation\n",
       "492               4920                66.489283\n",
       "493               4930                66.531428\n",
       "494               4940                66.590008\n",
       "495               4950                66.577046\n",
       "496               4960                66.423442\n",
       "497               4970                66.506002\n",
       "498               4980                66.459279\n",
       "499               4990                66.531479"
      ]
     },
     "metadata": {},
     "output_type": "display_data"
    }
   ],
   "source": [
    "# load trial sample size and its Height feature mean into a DataFrame\n",
    "samples2_df = pd.DataFrame(sizes,columns=[\"Trial Sample Size\"])\n",
    "samples2_df.index = pd.Index(i for i in range(1,len(sizes)+1,1))\n",
    "samples2_df['Height mean observation'] = list_of_means\n",
    "display(samples2_df.head(8))\n",
    "display(samples2_df.tail(8))"
   ]
  },
  {
   "cell_type": "code",
   "execution_count": 18,
   "metadata": {},
   "outputs": [
    {
     "name": "stdout",
     "output_type": "stream",
     "text": [
      "Total objects in population: 5000\n",
      "\n",
      "Mean of weight in total population: 66.52589400000002\n",
      "\n"
     ]
    },
    {
     "data": {
      "image/png": "[encoded data removed]",
      "text/plain": [
       "<Figure size 864x360 with 1 Axes>"
      ]
     },
     "metadata": {},
     "output_type": "display_data"
    }
   ],
   "source": [
    "# plot sample mean error vs sample size\n",
    "\n",
    "print(\"Total objects in population: \" + str(len(population)) + \"\\n\")\n",
    "print(\"Mean of weight in total population: \" + str(pop_height_mean) + \"\\n\")\n",
    "\n",
    "plt.figure(figsize=(12,5))\n",
    "plt.title(\"sample size vs. mean error\", fontsize=18)\n",
    "plt.xlabel(\"object sample size\", fontsize=18)\n",
    "plt.ylabel(\"mean error\",  fontsize=18)\n",
    "plt.scatter(sizes, array(list_of_means) - pop_height_mean)  # calculates mean error\n",
    "plt.axhline(y=0,xmin=0.00,xmax=20000,color='grey')\n",
    "plt.axvline(x=200, ymin=-3.00, ymax=2,color='grey')\n",
    "plt.axvline(x=1700, ymin=-3.00, ymax=2,color='grey')\n",
    "plt.show()"
   ]
  },
  {
   "cell_type": "markdown",
   "metadata": {},
   "source": [
    "- Sample size less than 200 objects of a population of 5,000 (first grey vertical line).\n",
    "    - Does not gaurantee a represenative sample of the population.\n",
    "- Sample size of 1500 objects or more of a population of 5,000 (second grey vertical line).\n",
    "    - Seems to give a reliable represenative sample of the population."
   ]
  },
  {
   "cell_type": "code",
   "execution_count": 19,
   "metadata": {},
   "outputs": [
    {
     "data": {
      "image/png": "[encoded data removed]",
      "text/plain": [
       "<Figure size 864x360 with 1 Axes>"
      ]
     },
     "metadata": {},
     "output_type": "display_data"
    }
   ],
   "source": [
    "# plot ideal population\n",
    "plt.figure(figsize=(12,5))\n",
    "plt.plot(samples2_df['Trial Sample Size'], samples2_df['Height mean observation'])\n",
    "plt.axhline(y=pop_height_mean,xmin=0.00,xmax=20000,color='grey')\n",
    "plt.axvline(x=200, ymin=-3.00, ymax=2,color='grey')\n",
    "plt.axvline(x=1700, ymin=-3.00, ymax=2,color='grey')\n",
    "plt.show()"
   ]
  },
  {
   "cell_type": "code",
   "execution_count": 20,
   "metadata": {},
   "outputs": [
    {
     "data": {
      "image/png": "[encoded data removed]",
      "text/plain": [
       "<Figure size 864x360 with 1 Axes>"
      ]
     },
     "metadata": {},
     "output_type": "display_data"
    }
   ],
   "source": [
    "# \n",
    "plt.figure(figsize=(12,5))\n",
    "plt.title(\"Distribution of the Height mean observations for all 499 trials of the experiment\", fontsize=18)\n",
    "plt.hist(samples2_df['Height mean observation'],bins=500)\n",
    "# show line plot\n",
    "plt.show()"
   ]
  },
  {
   "cell_type": "code",
   "execution_count": null,
   "metadata": {
    "collapsed": true
   },
   "outputs": [],
   "source": []
  }
 ],
 "metadata": {
  "kernelspec": {
   "display_name": "Python 3",
   "language": "python",
   "name": "python3"
  },
  "language_info": {
   "codemirror_mode": {
    "name": "ipython",
    "version": 3
   },
   "file_extension": ".py",
   "mimetype": "text/x-python",
   "name": "python",
   "nbconvert_exporter": "python",
   "pygments_lexer": "ipython3",
   "version": "3.6.2"
  }
 },
 "nbformat": 4,
 "nbformat_minor": 2
}
