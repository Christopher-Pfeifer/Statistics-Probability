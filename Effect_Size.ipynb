{
 "cells": [
  {
   "cell_type": "markdown",
   "metadata": {
    "collapsed": true
   },
   "source": [
    "# Estimation Statistics - (Effect Size)"
   ]
  },
  {
   "cell_type": "code",
   "execution_count": 2,
   "metadata": {
    "collapsed": true
   },
   "outputs": [],
   "source": [
    "import pandas     as pd\n",
    "import numpy      as np\n",
    "from numpy.random import randn\n",
    "from numpy.random import seed\n",
    "from numpy        import mean\n",
    "from numpy        import var\n",
    "from math         import sqrt\n",
    "from scipy.stats  import pearsonr\n",
    "np.set_printoptions(precision=3,suppress=True)\n",
    "seed(1)  # seed random number generator\n",
    "import matplotlib.pyplot as plt"
   ]
  },
  {
   "cell_type": "markdown",
   "metadata": {},
   "source": [
    "#### Statistical hypothesis tests report on the likelihood of the observed results given an assumption, such as:\n",
    "- No association between variables.\n",
    "- No diﬀerence between groups.\n",
    "\n",
    "Hypothesis tests make no judgement on the size of the eﬀect if the association or diﬀerence is statistically signiﬁcant.\n",
    "\n",
    "Therefore there is a need for standard ways of calculating and reporting a result.\n",
    "\n",
    "Eﬀect size approaches refer to a suite of statistical tools.\n",
    "- For quantifying the size of an eﬀect in the results of experiments.\n",
    "- Used to complement the results from statistical hypothesis tests.\n",
    "\n",
    "The eﬀect size describes the magnitude of a treatment or diﬀerence between two samples.\n",
    "- A hypothesis test can comment on whether the diﬀerence between samples is the result of chance or is real\n",
    "- Whereas an eﬀect size puts a number on how much the samples diﬀer.\n",
    "\n",
    "\"*Measuring the size of an eﬀect is a big part of applied machine learning, and in fact, research in general. I am sometimes asked, what do researchers do? The short answer is that we estimate the size of eﬀects. No matter what phenomenon we have chosen to study we essentially spend our careers thinking up new and better ways to estimate eﬀect magnitudes.*\"\n",
    "— Page 3, The Essential Guide to Eﬀect Sizes: Statistical Power, Meta-Analysis, and the Interpretation of Research Results, 2010.\n",
    "\n",
    "#### Two main classes of techniques used to quantify the magnitude of eﬀects:\n",
    "- Association\n",
    "    - The degree to which two samples change together.\n",
    "    - Including calculations of correlation, such as the Pearson’s correlation coeﬃcient, and the r2 coeﬃcient of determination.\n",
    "    - They may quantify the linear or monotonic way that observations in two samples change together.\n",
    "        - Linear: Represented by a straight line on a graph; involving or exhibiting directly proportional change in two related quantities.\n",
    "        - Monotonic: (function or quantity) varying in such a way that it either never decreases or never increases.\n",
    "- Diﬀerence\n",
    "    - The degree to which two samples are diﬀerent.\n",
    "    - Including methods such as Cohen’s d statistic that provide a standardized measure for how the means of two populations diﬀer.\n",
    "    - They seek a quantiﬁcation for the magnitude of diﬀerence between observations in two samples.\n",
    "\n",
    "\"*An eﬀect can be the result of a treatment revealed in a comparison between groups (e.g., treated and untreated groups, as in A/B testing) or it can describe the degree of association between two related variables (e.g., treatment dosage and health).*\"\n",
    "— Page 4, The Essential Guide to Eﬀect Sizes: Statistical Power, Meta-Analysis, and the Interpretation of Research Results, 2010.\n",
    "\n",
    "Eﬀect size on Wikipedia. https://en.wikipedia.org/wiki/Effect_size\n"
   ]
  },
  {
   "cell_type": "markdown",
   "metadata": {
    "collapsed": true
   },
   "source": [
    "## -----------------------------------------------------------------------------------"
   ]
  },
  {
   "cell_type": "markdown",
   "metadata": {},
   "source": [
    "### calculate the pearson's correlation between two variables\n",
    "\n",
    "It is a unit-free eﬀect size measure, that can be interpreted in a standard way, as follows:\n",
    "- -1.0: Perfect negative relationship.\n",
    "- -0.7: Strong negative relationship\n",
    "- -0.5: Moderate negative relationship\n",
    "- -0.3: Weak negative relationship\n",
    "- 0.0: No relationship.\n",
    "- 0.3: Weak positive relationship\n",
    "- 0.5: Moderate positive relationship\n",
    "- 0.7: Strong positive relationship\n",
    "- 1.0: Perfect positive relationship.\n"
   ]
  },
  {
   "cell_type": "markdown",
   "metadata": {},
   "source": [
    "The Pearson’s correlation coeﬃcient can be calculated in Python using the pearsonr() SciPy function.\n",
    "\n",
    "The example below demonstrates the calculation of the Pearson’s correlation coeﬃcient to quantify the size of the association between two samples of random Gaussian numbers where one sample has a strong relationship with the second."
   ]
  },
  {
   "cell_type": "code",
   "execution_count": 3,
   "metadata": {
    "collapsed": true
   },
   "outputs": [],
   "source": [
    "# prepare data (10,000) observations in each dataset\n",
    "data1 = 10 * randn(10000) + 50\n",
    "data2 = data1 + (10 * randn(10000) + 50)\n",
    "\n",
    "# load both data samples into a DataFrame\n",
    "df = pd.DataFrame(data = {\"Sample_1\":data1,\"Sample_2\":data2})"
   ]
  },
  {
   "cell_type": "code",
   "execution_count": 4,
   "metadata": {},
   "outputs": [
    {
     "name": "stdout",
     "output_type": "stream",
     "text": [
      "Number of observations in each data sample: 10000\n"
     ]
    },
    {
     "data": {
      "text/html": [
       "<div>\n",
       "<style scoped>\n",
       "    .dataframe tbody tr th:only-of-type {\n",
       "        vertical-align: middle;\n",
       "    }\n",
       "\n",
       "    .dataframe tbody tr th {\n",
       "        vertical-align: top;\n",
       "    }\n",
       "\n",
       "    .dataframe thead th {\n",
       "        text-align: right;\n",
       "    }\n",
       "</style>\n",
       "<table border=\"1\" class=\"dataframe\">\n",
       "  <thead>\n",
       "    <tr style=\"text-align: right;\">\n",
       "      <th></th>\n",
       "      <th>Sample_1</th>\n",
       "      <th>Sample_2</th>\n",
       "    </tr>\n",
       "  </thead>\n",
       "  <tbody>\n",
       "    <tr>\n",
       "      <th>0</th>\n",
       "      <td>66.243454</td>\n",
       "      <td>115.018715</td>\n",
       "    </tr>\n",
       "    <tr>\n",
       "      <th>1</th>\n",
       "      <td>43.882436</td>\n",
       "      <td>96.164134</td>\n",
       "    </tr>\n",
       "    <tr>\n",
       "      <th>2</th>\n",
       "      <td>44.718282</td>\n",
       "      <td>91.195231</td>\n",
       "    </tr>\n",
       "    <tr>\n",
       "      <th>3</th>\n",
       "      <td>39.270314</td>\n",
       "      <td>80.964779</td>\n",
       "    </tr>\n",
       "    <tr>\n",
       "      <th>4</th>\n",
       "      <td>58.654076</td>\n",
       "      <td>106.043178</td>\n",
       "    </tr>\n",
       "    <tr>\n",
       "      <th>5</th>\n",
       "      <td>26.984613</td>\n",
       "      <td>78.678155</td>\n",
       "    </tr>\n",
       "    <tr>\n",
       "      <th>6</th>\n",
       "      <td>67.448118</td>\n",
       "      <td>124.184349</td>\n",
       "    </tr>\n",
       "    <tr>\n",
       "      <th>7</th>\n",
       "      <td>42.387931</td>\n",
       "      <td>89.115915</td>\n",
       "    </tr>\n",
       "    <tr>\n",
       "      <th>8</th>\n",
       "      <td>53.190391</td>\n",
       "      <td>100.137399</td>\n",
       "    </tr>\n",
       "    <tr>\n",
       "      <th>9</th>\n",
       "      <td>47.506296</td>\n",
       "      <td>102.754950</td>\n",
       "    </tr>\n",
       "  </tbody>\n",
       "</table>\n",
       "</div>"
      ],
      "text/plain": [
       "    Sample_1    Sample_2\n",
       "0  66.243454  115.018715\n",
       "1  43.882436   96.164134\n",
       "2  44.718282   91.195231\n",
       "3  39.270314   80.964779\n",
       "4  58.654076  106.043178\n",
       "5  26.984613   78.678155\n",
       "6  67.448118  124.184349\n",
       "7  42.387931   89.115915\n",
       "8  53.190391  100.137399\n",
       "9  47.506296  102.754950"
      ]
     },
     "metadata": {},
     "output_type": "display_data"
    },
    {
     "name": "stdout",
     "output_type": "stream",
     "text": [
      "Sample 1 variance: 99.76729288445284\n",
      "sample 2 variance: 203.15238380321267\n",
      "\n",
      " Mean of each sample:\n",
      "   50.09772656699116\n",
      "   100.19208070146186\n",
      "\n",
      " Standard deviation of each sample:\n",
      "   9.988357867259905\n",
      "   14.253153468731496\n"
     ]
    },
    {
     "data": {
      "image/png": "[encoded data removed]",
      "text/plain": [
       "<Figure size 576x360 with 1 Axes>"
      ]
     },
     "metadata": {},
     "output_type": "display_data"
    },
    {
     "data": {
      "image/png": "[encoded data removed]",
      "text/plain": [
       "<Figure size 576x360 with 2 Axes>"
      ]
     },
     "metadata": {},
     "output_type": "display_data"
    },
    {
     "data": {
      "text/html": [
       "\n",
       "        <script>\n",
       "            function code_toggle_17673701371379307716() {\n",
       "                $('div.cell.code_cell.rendered.selected').find('div.input').toggle();\n",
       "            }\n",
       "\n",
       "            \n",
       "        </script>\n",
       "\n",
       "        <a href=\"javascript:code_toggle_17673701371379307716()\">Toggle show/hide</a>\n",
       "    "
      ],
      "text/plain": [
       "<IPython.core.display.HTML object>"
      ]
     },
     "execution_count": 4,
     "metadata": {},
     "output_type": "execute_result"
    }
   ],
   "source": [
    "print(\"Number of observations in each data sample: \" + str(len(df)))\n",
    "display(df.head(10))\n",
    "\n",
    "# Returns the variance of the sample observations.\n",
    "# A measure of the spread of a distribution.\n",
    "s1 = var(df.Sample_1, ddof=1)\n",
    "s2 = var(df.Sample_2, ddof=1)\n",
    "print(\"Sample 1 variance: \" + str(s1))\n",
    "print(\"sample 2 variance: \" + str(s2))\n",
    "\n",
    "print(\"\\n Mean of each sample:\")\n",
    "print(\"   \" + str(df.Sample_1.mean()))\n",
    "print(\"   \" + str(df.Sample_2.mean()))\n",
    "print(\"\\n Standard deviation of each sample:\")\n",
    "print(\"   \" + str(df.Sample_1.std()))\n",
    "print(\"   \" + str(df.Sample_2.std()))\n",
    "\n",
    "# Scatter Plot\n",
    "fig = plt.figure(figsize=(8,5))\n",
    "plt.scatter(df.Sample_1, df.Sample_2)\n",
    "\n",
    "# Comparative Histograms with Kernel Density Estimation plot\n",
    "fig = plt.figure(figsize=(8,5))\n",
    "\n",
    "ax = fig.add_subplot(1,1,1)\n",
    "_ = ax.hist(df.Sample_1)\n",
    "_ = ax.hist(df.Sample_2, color='red', alpha=.3)\n",
    "\n",
    "ax1 = ax.twinx()\n",
    "df.Sample_1.plot(kind='kde', ax=ax1)\n",
    "df.Sample_2.plot(kind='kde', ax=ax1, color='red')\n",
    "plt.show()\n",
    "hide_toggle()"
   ]
  },
  {
   "cell_type": "code",
   "execution_count": 5,
   "metadata": {},
   "outputs": [
    {
     "name": "stdout",
     "output_type": "stream",
     "text": [
      "Pearsons correlation: 0.712\n"
     ]
    }
   ],
   "source": [
    "# calculate pearson's correlation\n",
    "corr, _ = pearsonr(df.Sample_1, df.Sample_2)\n",
    "print('Pearsons correlation: %.3f' % corr)"
   ]
  },
  {
   "cell_type": "markdown",
   "metadata": {
    "collapsed": true
   },
   "source": [
    "#### Above example:\n",
    "- Contrives two samples of random gaussian numbers where one sample has a strong relationship with the other.\n",
    "- Displays a scatter plot of the the linear relationship between the two data samples.\n",
    "- Displays comparative histograms with kernel density estimation (KDE) plots.\n",
    "- Calculates and displays the Pearson’s correlation between the two data samples.\n",
    "- The correlation eﬀect shows a strong positive relationship between the samples."
   ]
  },
  {
   "cell_type": "markdown",
   "metadata": {},
   "source": [
    "# -----------------------------------------------------------------------------------"
   ]
  },
  {
   "cell_type": "markdown",
   "metadata": {
    "collapsed": true
   },
   "source": [
    "#### coeﬃcient of determination\n",
    "- Another very popular method for calculating the association eﬀect size is the r-squared measure, or r2, also called the coeﬃcient of determination.\n",
    "- It summarizes the proportion of variance in one variable explained by the other."
   ]
  },
  {
   "cell_type": "markdown",
   "metadata": {
    "collapsed": true
   },
   "source": [
    "### Calculate Diﬀerence Eﬀect Size\n",
    "- The diﬀerence between groups is often referred to as the d family of eﬀect size methods.\n",
    "- Name comes from the a common method for calculating the diﬀerence between the mean value of groups, called Cohen’s d.\n",
    "- Cohen’s d measures the diﬀerence between the mean from two Gaussian-distributed variables.\n",
    "- It is a standard score that summarizes the diﬀerence in terms of the number of standard deviations.\n",
    "\n",
    "Because the score is standardized, there is a table for the interpretation of the result, summarized as:\n",
    "\n",
    "| Effect Size | Measurment |\n",
    "| ----------- |:----------:|\n",
    "| Small       | d = 0.20   |\n",
    "| Medium      | d = 0.50   |\n",
    "| Large       | d = 0.80   |\n",
    "\n",
    "The Cohen’s d calculation is not provided in Python; however, it can be calculated manually.\n",
    "#### The calculation of the diﬀerence between the mean of two samples is as follows:"
   ]
  },
  {
   "attachments": {
    "image.png": {
     "image/png": "[encoded data removed]"
    }
   },
   "cell_type": "markdown",
   "metadata": {},
   "source": [
    "![image.png](attachment:image.png)"
   ]
  },
  {
   "cell_type": "markdown",
   "metadata": {},
   "source": [
    "- Where d is the Cohen’s d.\n",
    "- µ1 is the mean of the first sample.\n",
    "- µ2 is the mean of the second sample.\n",
    "- s is the pooled standard deviation of both samples."
   ]
  },
  {
   "cell_type": "markdown",
   "metadata": {},
   "source": [
    "#### The pooled standard deviation for two independent samples can be calculated as follows:"
   ]
  },
  {
   "attachments": {
    "image.png": {
     "image/png": "[encoded data removed]"
    }
   },
   "cell_type": "markdown",
   "metadata": {},
   "source": [
    "![image.png](attachment:image.png)"
   ]
  },
  {
   "cell_type": "markdown",
   "metadata": {},
   "source": [
    "- Where s is the pooled standard deviation.\n",
    "- n1 and n2 are the sizes of the ﬁrst sample and second samples.\n",
    "- s2/1 and s2/2 are the variance for the ﬁrst and second samples.\n",
    "- The subtractions are the adjustments for the number of degrees of freedom."
   ]
  },
  {
   "cell_type": "markdown",
   "metadata": {
    "collapsed": true
   },
   "source": [
    "### calculate the cohen's d between two samples"
   ]
  },
  {
   "cell_type": "markdown",
   "metadata": {},
   "source": [
    "- The function below will calculate the Cohen’s d measure for two samples of real-valued variables.\n",
    "- The NumPy functions mean() and var() are used to calculate the sample mean and variance respectively.\n",
    "\n",
    "The example below calculates the Cohen’s d measure for two samples of random Gaussian variables with diﬀering means.\n",
    "\n",
    "The samples (data1 and data2) are contrived such that:\n",
    "- The means are diﬀerent by one half standard deviation.\n",
    "- And both samples have the same standard deviation."
   ]
  },
  {
   "cell_type": "code",
   "execution_count": 6,
   "metadata": {
    "collapsed": true
   },
   "outputs": [],
   "source": [
    "# called function to calculate cohen's d for independent samples\n",
    "def cohend(d1, d2):\n",
    "    # calculate the size of samples\n",
    "    n1, n2 = len(d1), len(d2)\n",
    "    # calculate the variance of the samples\n",
    "    s1, s2 = var(d1, ddof=1), var(d2, ddof=1)\n",
    "    # calculate the pooled standard deviation\n",
    "    s = sqrt(((n1 - 1) * s1 + (n2 - 1) * s2) / (n1 + n2 - 2))\n",
    "    # calculate the means of the samples\n",
    "    u1, u2 = mean(d1), mean(d2)\n",
    "    # calculate the effect size\n",
    "    return (u1 - u2) / s"
   ]
  },
  {
   "cell_type": "code",
   "execution_count": 7,
   "metadata": {
    "collapsed": true
   },
   "outputs": [],
   "source": [
    "# prepare data\n",
    "# The means are diﬀerent by one half standard deviation.\n",
    "# And both samples have the same standard deviation.\n",
    "data1 = 10 * randn(10000) + 60\n",
    "data2 = 10 * randn(10000) + 55"
   ]
  },
  {
   "cell_type": "code",
   "execution_count": 8,
   "metadata": {},
   "outputs": [
    {
     "name": "stdout",
     "output_type": "stream",
     "text": [
      "Number of observations in each data sample: 10000\n"
     ]
    },
    {
     "data": {
      "text/html": [
       "<div>\n",
       "<style scoped>\n",
       "    .dataframe tbody tr th:only-of-type {\n",
       "        vertical-align: middle;\n",
       "    }\n",
       "\n",
       "    .dataframe tbody tr th {\n",
       "        vertical-align: top;\n",
       "    }\n",
       "\n",
       "    .dataframe thead th {\n",
       "        text-align: right;\n",
       "    }\n",
       "</style>\n",
       "<table border=\"1\" class=\"dataframe\">\n",
       "  <thead>\n",
       "    <tr style=\"text-align: right;\">\n",
       "      <th></th>\n",
       "      <th>Sample_1</th>\n",
       "      <th>Sample_2</th>\n",
       "    </tr>\n",
       "  </thead>\n",
       "  <tbody>\n",
       "    <tr>\n",
       "      <th>0</th>\n",
       "      <td>40.684361</td>\n",
       "      <td>58.860550</td>\n",
       "    </tr>\n",
       "    <tr>\n",
       "      <th>1</th>\n",
       "      <td>58.395739</td>\n",
       "      <td>50.008477</td>\n",
       "    </tr>\n",
       "    <tr>\n",
       "      <th>2</th>\n",
       "      <td>51.677805</td>\n",
       "      <td>67.864876</td>\n",
       "    </tr>\n",
       "    <tr>\n",
       "      <th>3</th>\n",
       "      <td>57.938884</td>\n",
       "      <td>51.477866</td>\n",
       "    </tr>\n",
       "    <tr>\n",
       "      <th>4</th>\n",
       "      <td>70.262549</td>\n",
       "      <td>77.429013</td>\n",
       "    </tr>\n",
       "    <tr>\n",
       "      <th>5</th>\n",
       "      <td>69.699638</td>\n",
       "      <td>81.998492</td>\n",
       "    </tr>\n",
       "    <tr>\n",
       "      <th>6</th>\n",
       "      <td>57.731903</td>\n",
       "      <td>64.311028</td>\n",
       "    </tr>\n",
       "    <tr>\n",
       "      <th>7</th>\n",
       "      <td>58.895975</td>\n",
       "      <td>50.239333</td>\n",
       "    </tr>\n",
       "    <tr>\n",
       "      <th>8</th>\n",
       "      <td>53.992676</td>\n",
       "      <td>49.525259</td>\n",
       "    </tr>\n",
       "    <tr>\n",
       "      <th>9</th>\n",
       "      <td>71.341459</td>\n",
       "      <td>50.360915</td>\n",
       "    </tr>\n",
       "  </tbody>\n",
       "</table>\n",
       "</div>"
      ],
      "text/plain": [
       "    Sample_1   Sample_2\n",
       "0  40.684361  58.860550\n",
       "1  58.395739  50.008477\n",
       "2  51.677805  67.864876\n",
       "3  57.938884  51.477866\n",
       "4  70.262549  77.429013\n",
       "5  69.699638  81.998492\n",
       "6  57.731903  64.311028\n",
       "7  58.895975  50.239333\n",
       "8  53.992676  49.525259\n",
       "9  71.341459  50.360915"
      ]
     },
     "metadata": {},
     "output_type": "display_data"
    },
    {
     "name": "stdout",
     "output_type": "stream",
     "text": [
      "Sample 1 variance: 99.2013781032029\n",
      "sample 2 variance: 100.544252102572\n",
      "\n",
      " Mean of each sample (The means are diﬀerent by one half standard deviation):\n",
      "Sample 1: 59.85396479137986\n",
      "Sample 2: 55.15915441392111\n",
      "\n",
      " Standard deviation of each sample (both samples have practically the same standard deviation):\n",
      "Sample 1: 9.959988860596326\n",
      "Sample 2: 10.027175679251462\n"
     ]
    },
    {
     "data": {
      "image/png": "[encoded data removed]",
      "text/plain": [
       "<Figure size 936x360 with 3 Axes>"
      ]
     },
     "metadata": {},
     "output_type": "display_data"
    },
    {
     "data": {
      "text/html": [
       "\n",
       "        <script>\n",
       "            function code_toggle_15239271523951955453() {\n",
       "                $('div.cell.code_cell.rendered.selected').find('div.input').toggle();\n",
       "            }\n",
       "\n",
       "            \n",
       "        </script>\n",
       "\n",
       "        <a href=\"javascript:code_toggle_15239271523951955453()\">Toggle show/hide</a>\n",
       "    "
      ],
      "text/plain": [
       "<IPython.core.display.HTML object>"
      ]
     },
     "execution_count": 8,
     "metadata": {},
     "output_type": "execute_result"
    }
   ],
   "source": [
    "# load both data samples into a DataFrame\n",
    "df2 = pd.DataFrame(data = {\"Sample_1\":data1,\"Sample_2\":data2})\n",
    "print(\"Number of observations in each data sample: \" + str(len(df)))\n",
    "display(df2.head(10))\n",
    "\n",
    "# Returns the variance of the sample observations.\n",
    "# A measure of the spread of a distribution.\n",
    "s1 = var(df2.Sample_1, ddof=1)\n",
    "s2 = var(df2.Sample_2, ddof=1)\n",
    "print(\"Sample 1 variance: \" + str(s1))\n",
    "print(\"sample 2 variance: \" + str(s2))\n",
    "\n",
    "print(\"\\n Mean of each sample (The means are diﬀerent by one half standard deviation):\")\n",
    "print(\"Sample 1: \" + str(df2.Sample_1.mean()))\n",
    "print(\"Sample 2: \" + str(df2.Sample_2.mean()))\n",
    "print(\"\\n Standard deviation of each sample (both samples have practically the same standard deviation):\")\n",
    "print(\"Sample 1: \" + str(df2.Sample_1.std()))\n",
    "print(\"Sample 2: \" + str(df2.Sample_2.std()))\n",
    "\n",
    "# Create a figure with 1x2 subplot and make the left subplot active\n",
    "fig = plt.figure(figsize=(13,5))\n",
    "\n",
    "#---------------------------------------------------------------------\n",
    "# Create a figure in a 2x2 subplot making the upper-left subplot active\n",
    "plt.subplot(1,2,1)\n",
    "plt.scatter(df2.Sample_1, df2.Sample_2)\n",
    "plt.xlabel(\"sample 1\", fontsize=18)\n",
    "plt.ylabel(\"Sample 2\",  fontsize=18)\n",
    "\n",
    "# --------------------------------------------------------------------\n",
    "# Create a figure in a 2x2 subplot making the upper-right subplot active\n",
    "ax = fig.add_subplot(1,2,2)\n",
    "_ = ax.hist(df2.Sample_1,bins=100)\n",
    "_ = ax.hist(df2.Sample_2,bins=100, color='red', alpha=.3)\n",
    "ax1 = ax.twinx()\n",
    "df2.Sample_1.plot(kind='kde', ax=ax1)\n",
    "df2.Sample_2.plot(kind='kde', ax=ax1, color='red')\n",
    "\n",
    "# ---------------------------------------------------------------------\n",
    "# Use plt.tight_layout() to improve the spacing between subplots\n",
    "plt.tight_layout()\n",
    "plt.show()\n",
    "\n",
    "hide_toggle()"
   ]
  },
  {
   "cell_type": "code",
   "execution_count": 9,
   "metadata": {},
   "outputs": [
    {
     "name": "stdout",
     "output_type": "stream",
     "text": [
      "Cohens d: 0.470\n"
     ]
    }
   ],
   "source": [
    "# calculate cohen's d\n",
    "d = cohend(df2.Sample_1, df2.Sample_2)\n",
    "print('Cohens d: %.3f' % d)"
   ]
  },
  {
   "cell_type": "markdown",
   "metadata": {
    "collapsed": true
   },
   "source": [
    "#### Above example:\n",
    "- Contrives two samples, such that: both samples have the same SD and the means are different by one half SD.\n",
    "- Displays a scatter plot showing no linear relationship between the two data samples.\n",
    "- Displays comparative histograms with kernel density estimation (KDE) plots.\n",
    "- Calculates and displays the Cohen’s d eﬀect size.\n",
    "- As anticipated, the diﬀerence between the means is one half of one SD, interpreted as a medium eﬀect size."
   ]
  },
  {
   "cell_type": "code",
   "execution_count": 10,
   "metadata": {},
   "outputs": [
    {
     "data": {
      "image/png": "[encoded data removed]",
      "text/plain": [
       "<Figure size 720x576 with 4 Axes>"
      ]
     },
     "metadata": {},
     "output_type": "display_data"
    },
    {
     "data": {
      "text/html": [
       "\n",
       "        <script>\n",
       "            function code_toggle_9097431382006539342() {\n",
       "                $('div.cell.code_cell.rendered.selected').find('div.input').toggle();\n",
       "            }\n",
       "\n",
       "            \n",
       "        </script>\n",
       "\n",
       "        <a href=\"javascript:code_toggle_9097431382006539342()\">Toggle show/hide</a>\n",
       "    "
      ],
      "text/plain": [
       "<IPython.core.display.HTML object>"
      ]
     },
     "execution_count": 10,
     "metadata": {},
     "output_type": "execute_result"
    }
   ],
   "source": [
    "# Create a figure with 1x2 subplot and make the left subplot active\n",
    "fig = plt.figure(figsize=(10,8))\n",
    "\n",
    "#---------------------------------------------------------------------\n",
    "# Create a figure in a 2x2 subplot making the upper-left subplot active\n",
    "plt.subplot(2,2,1)\n",
    "plt.hist(data1,bins=1000)\n",
    "plt.title('Data Sample 1')\n",
    "\n",
    "# --------------------------------------------------------------------\n",
    "# Create a figure in a 2x2 subplot making the upper-right subplot active\n",
    "plt.subplot(2,2,2)\n",
    "plt.hist(data2,bins=1000)\n",
    "plt.title('Data Sample 2')\n",
    "\n",
    "#---------------------------------------------------------------------\n",
    "# Create a figure in a 2x2 subplot making the lower-left subplot active\n",
    "plt.subplot(2,2,3)\n",
    "plt.boxplot(data1)\n",
    "\n",
    "# --------------------------------------------------------------------\n",
    "# Create a figure in a 2x2 subplot making the upper-right subplot active\n",
    "plt.subplot(2,2,4)\n",
    "plt.boxplot(data2)\n",
    "\n",
    "# ---------------------------------------------------------------------\n",
    "# Use plt.tight_layout() to improve the spacing between subplots\n",
    "plt.tight_layout()\n",
    "plt.show()\n",
    "hide_toggle()"
   ]
  },
  {
   "cell_type": "markdown",
   "metadata": {},
   "source": [
    "## -----------------------------------------------------------------------------------"
   ]
  },
  {
   "cell_type": "markdown",
   "metadata": {},
   "source": [
    "Two other popular methods for quantifying the diﬀerence eﬀect size are:\n",
    "- Odds Ratio. Measures the odds of an outcome occurring from one treatment compared to another.\n",
    "- Relative Risk Ratio. Measures the probabilities of an outcome occurring from one treatment compared to another."
   ]
  },
  {
   "cell_type": "markdown",
   "metadata": {},
   "source": [
    "## ------------------------------------------------------------------------------------"
   ]
  },
  {
   "cell_type": "code",
   "execution_count": 1,
   "metadata": {
    "collapsed": true
   },
   "outputs": [],
   "source": [
    "from IPython.display import HTML\n",
    "import random\n",
    "\n",
    "def hide_toggle(for_next=False):\n",
    "    this_cell = \"\"\"$('div.cell.code_cell.rendered.selected')\"\"\"\n",
    "    next_cell = this_cell + '.next()'\n",
    "\n",
    "    toggle_text = 'Toggle show/hide'  # text shown on toggle link\n",
    "    target_cell = this_cell  # target cell to control with toggle\n",
    "    js_hide_current = ''  # bit of JS to permanently hide code in current cell (only when toggling next cell)\n",
    "\n",
    "    if for_next:\n",
    "        target_cell = next_cell\n",
    "        toggle_text += ' next cell'\n",
    "        js_hide_current = this_cell + '.find(\"div.input\").hide();'\n",
    "\n",
    "    js_f_name = 'code_toggle_{}'.format(str(random.randint(1,2**64)))\n",
    "\n",
    "    html = \"\"\"\n",
    "        <script>\n",
    "            function {f_name}() {{\n",
    "                {cell_selector}.find('div.input').toggle();\n",
    "            }}\n",
    "\n",
    "            {js_hide_current}\n",
    "        </script>\n",
    "\n",
    "        <a href=\"javascript:{f_name}()\">{toggle_text}</a>\n",
    "    \"\"\".format(\n",
    "        f_name=js_f_name,\n",
    "        cell_selector=target_cell,\n",
    "        js_hide_current=js_hide_current, \n",
    "        toggle_text=toggle_text\n",
    "    )\n",
    "\n",
    "    return HTML(html)"
   ]
  },
  {
   "cell_type": "code",
   "execution_count": null,
   "metadata": {
    "collapsed": true
   },
   "outputs": [],
   "source": []
  }
 ],
 "metadata": {
  "kernelspec": {
   "display_name": "Python 3",
   "language": "python",
   "name": "python3"
  },
  "language_info": {
   "codemirror_mode": {
    "name": "ipython",
    "version": 3
   },
   "file_extension": ".py",
   "mimetype": "text/x-python",
   "name": "python",
   "nbconvert_exporter": "python",
   "pygments_lexer": "ipython3",
   "version": "3.6.2"
  }
 },
 "nbformat": 4,
 "nbformat_minor": 2
}
